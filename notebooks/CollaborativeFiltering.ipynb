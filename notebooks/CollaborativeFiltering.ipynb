{
 "cells": [
  {
   "cell_type": "code",
   "execution_count": 9,
   "id": "59539eb8",
   "metadata": {},
   "outputs": [],
   "source": [
    "import pandas as pd\n",
    "from sklearn.metrics.pairwise import cosine_similarity\n",
    "import numpy as np\n",
    "from sklearn.metrics.pairwise import cosine_similarity\n",
    "from sklearn.metrics import mean_squared_error, mean_absolute_error\n",
    "import pandas as pd\n",
    "import numpy as np\n",
    "from scipy.sparse import csr_matrix"
   ]
  },
  {
   "cell_type": "code",
   "execution_count": 10,
   "id": "1e5509f6",
   "metadata": {},
   "outputs": [],
   "source": [
    "articles = pd.read_csv(\"articles_cleaned.csv\")\n",
    "customers = pd.read_csv('customers_cleaned.csv')\n",
    "transactions = pd.read_csv('transactions_cleaned.csv')"
   ]
  },
  {
   "cell_type": "code",
   "execution_count": 11,
   "id": "9380eaef",
   "metadata": {},
   "outputs": [
    {
     "name": "stdout",
     "output_type": "stream",
     "text": [
      "RMSE: 0.031171138718658366\n",
      "MAE: 0.024377739499250706\n"
     ]
    }
   ],
   "source": [
    "\n",
    "# Step 1: Sample transactions\n",
    "sampled_users = transactions['customer_id'].sample(n=500, random_state=42).unique()\n",
    "sampled_transactions = transactions[transactions['customer_id'].isin(sampled_users)]\n",
    "\n",
    "# Step 2: Train-Test Split\n",
    "def train_test_split(transactions, test_size=0.2):\n",
    "    test = transactions.sample(frac=test_size, random_state=42)\n",
    "    train = transactions.drop(test.index)\n",
    "    return train, test\n",
    "\n",
    "# Perform train-test split on the sampled transactions\n",
    "train_transactions, test_transactions = train_test_split(sampled_transactions)\n",
    "\n",
    "# Step 3: Create User-Item Matrices for Train and Test\n",
    "train_matrix = train_transactions.pivot_table(\n",
    "    index='customer_id',\n",
    "    columns='article_id',\n",
    "    values='price',\n",
    "    aggfunc='sum'\n",
    ").fillna(0)\n",
    "\n",
    "test_matrix = test_transactions.pivot_table(\n",
    "    index='customer_id',\n",
    "    columns='article_id',\n",
    "    values='price',\n",
    "    aggfunc='sum'\n",
    ").fillna(0)\n",
    "\n",
    "# Align test matrix with train matrix\n",
    "test_matrix = test_matrix.reindex(index=train_matrix.index, columns=train_matrix.columns, fill_value=0)\n",
    "\n",
    "# Convert matrices to sparse format for efficiency\n",
    "train_matrix_sparse = csr_matrix(train_matrix.values)\n",
    "test_matrix_sparse = csr_matrix(test_matrix.values)\n",
    "\n",
    "# Step 4: Compute User-User Similarity on Train Matrix\n",
    "train_similarity = cosine_similarity(train_matrix_sparse)\n",
    "train_similarity_df = pd.DataFrame(train_similarity, index=train_matrix.index, columns=train_matrix.index)\n",
    "\n",
    "# Step 5: Predict Ratings Based on Train Matrix\n",
    "def predict_ratings(train_matrix_df, similarity_matrix):\n",
    "    # Weighted sum of ratings\n",
    "    weighted_sum = similarity_matrix.dot(train_matrix_df.values)\n",
    "    # Sum of absolute similarities\n",
    "    sum_of_similarities = np.abs(similarity_matrix).sum(axis=1).reshape(-1, 1)\n",
    "    # Predicted ratings\n",
    "    predicted_matrix = weighted_sum / sum_of_similarities\n",
    "    return pd.DataFrame(\n",
    "        predicted_matrix,\n",
    "        index=train_matrix_df.index,\n",
    "        columns=train_matrix_df.columns\n",
    "    )\n",
    "\n",
    "# Call the function with train_matrix (DataFrame)\n",
    "predicted_ratings = predict_ratings(train_matrix, train_similarity)\n",
    "\n",
    "\n",
    "\n",
    "# Step 6: Flatten Matrices for Evaluation\n",
    "def flatten_for_evaluation(predicted_matrix, actual_matrix):\n",
    "    mask = actual_matrix > 0  # Consider only actual interactions\n",
    "    predicted_flat = predicted_matrix[mask]\n",
    "    actual_flat = actual_matrix[mask]\n",
    "    return predicted_flat, actual_flat\n",
    "\n",
    "predicted_flat, actual_flat = flatten_for_evaluation(\n",
    "    pd.DataFrame(predicted_ratings, index=train_matrix.index, columns=train_matrix.columns).values,\n",
    "    test_matrix.values\n",
    ")\n",
    "\n",
    "# Step 7: Calculate RMSE and MAE\n",
    "rmse = np.sqrt(mean_squared_error(actual_flat, predicted_flat))\n",
    "mae = mean_absolute_error(actual_flat, predicted_flat)\n",
    "\n",
    "# Step 8: Output the Results\n",
    "print(f\"RMSE: {rmse}\")\n",
    "print(f\"MAE: {mae}\")\n"
   ]
  },
  {
   "cell_type": "code",
   "execution_count": 5,
   "id": "6652d3dc",
   "metadata": {},
   "outputs": [],
   "source": []
  },
  {
   "cell_type": "code",
   "execution_count": null,
   "id": "2f0f3653",
   "metadata": {},
   "outputs": [],
   "source": []
  },
  {
   "cell_type": "code",
   "execution_count": null,
   "id": "4938196e",
   "metadata": {},
   "outputs": [],
   "source": []
  },
  {
   "cell_type": "code",
   "execution_count": null,
   "id": "61cba15b",
   "metadata": {},
   "outputs": [],
   "source": []
  },
  {
   "cell_type": "code",
   "execution_count": null,
   "id": "8b7a2bc4",
   "metadata": {},
   "outputs": [],
   "source": []
  },
  {
   "cell_type": "code",
   "execution_count": null,
   "id": "d49dd60c",
   "metadata": {},
   "outputs": [],
   "source": []
  },
  {
   "cell_type": "code",
   "execution_count": null,
   "id": "e8e233ce",
   "metadata": {},
   "outputs": [],
   "source": []
  },
  {
   "cell_type": "code",
   "execution_count": null,
   "id": "2b20e5e6",
   "metadata": {},
   "outputs": [],
   "source": [
    "\n"
   ]
  },
  {
   "cell_type": "code",
   "execution_count": null,
   "id": "98a97812",
   "metadata": {},
   "outputs": [],
   "source": []
  },
  {
   "cell_type": "code",
   "execution_count": null,
   "id": "7732037e",
   "metadata": {},
   "outputs": [],
   "source": []
  },
  {
   "cell_type": "code",
   "execution_count": null,
   "id": "1a71a1c2",
   "metadata": {},
   "outputs": [],
   "source": []
  }
 ],
 "metadata": {
  "kernelspec": {
   "display_name": "Python 3 (ipykernel)",
   "language": "python",
   "name": "python3"
  },
  "language_info": {
   "codemirror_mode": {
    "name": "ipython",
    "version": 3
   },
   "file_extension": ".py",
   "mimetype": "text/x-python",
   "name": "python",
   "nbconvert_exporter": "python",
   "pygments_lexer": "ipython3",
   "version": "3.10.13"
  }
 },
 "nbformat": 4,
 "nbformat_minor": 5
}

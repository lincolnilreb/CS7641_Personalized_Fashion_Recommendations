{
 "cells": [
  {
   "cell_type": "code",
   "execution_count": 1,
   "id": "346f8ed9-be8e-4864-97d1-64e3074bbadf",
   "metadata": {
    "collapsed": false,
    "id": "FAhuGiCWPewa"
   },
   "outputs": [],
   "source": [
    "# Combine all datasets into one hot one. This will include columns from articles.csv (25 columns), customers.csv(7 columns) and transaction_train.csv (5 columns). Total columns in the final dataset will be 25 + 7 + 5 - 2 = 35 columns.\n",
    "# The idea is to apply PCA on the combined dataset and identify useful features.\n",
    "# EDA (HeatMap + Visualization)\n",
    "# Cluster on this dataset to find similar customers and similar articles.\n",
    "# Experiment - We can cluster similar customers on customers.csv only and similar articles on articles.csv.\n",
    "#\n",
    "# One implemented Data Processing Method -  PCA and/or SVD.\n",
    "# Two ML model implemented - Kmeans + DBSCAN\n",
    "#\n",
    "#\n",
    "#"
   ]
  },
  {
   "cell_type": "code",
   "execution_count": 52,
   "id": "538e31b2-98fe-4db0-a546-ea6721447c26",
   "metadata": {
    "collapsed": false,
    "id": "RsUy8FGoGKcY"
   },
   "outputs": [],
   "source": [
    "import pandas as pd\n",
    "import seaborn as sns\n",
    "from matplotlib import pyplot as plt\n",
    "import numpy as np"
   ]
  },
  {
   "cell_type": "markdown",
   "id": "eb3193fb-10c5-4fac-9eb9-37ba1da1b89f",
   "metadata": {
    "collapsed": false,
    "id": "ADkwADTjEheS"
   },
   "source": [
    "**Read Data**"
   ]
  },
  {
   "cell_type": "code",
   "execution_count": 4,
   "id": "f2c3714e-03c6-4015-a948-9fe6d34a75e9",
   "metadata": {
    "collapsed": false,
    "id": "Nj_W9LcjERib"
   },
   "outputs": [
    {
     "ename": "FileNotFoundError",
     "evalue": "[Errno 2] No such file or directory: '/content/drive/MyDrive/CS 7641 Machine Learning Group Project/articles.csv'",
     "output_type": "error",
     "traceback": [
      "\u001b[0;31m---------------------------------------------------------------------------\u001b[0m",
      "\u001b[0;31mFileNotFoundError\u001b[0m                         Traceback (most recent call last)",
      "Cell \u001b[0;32mIn[4], line 1\u001b[0m\n\u001b[0;32m----> 1\u001b[0m articles \u001b[38;5;241m=\u001b[39m pd\u001b[38;5;241m.\u001b[39mread_csv(\u001b[38;5;124m\"\u001b[39m\u001b[38;5;124m/content/drive/MyDrive/CS 7641 Machine Learning Group Project/articles.csv\u001b[39m\u001b[38;5;124m\"\u001b[39m)\n\u001b[1;32m      2\u001b[0m customers \u001b[38;5;241m=\u001b[39m pd\u001b[38;5;241m.\u001b[39mread_csv(\u001b[38;5;124m'\u001b[39m\u001b[38;5;124m/content/drive/MyDrive/CS 7641 Machine Learning Group Project/customers.csv\u001b[39m\u001b[38;5;124m'\u001b[39m)\n\u001b[1;32m      3\u001b[0m transactions \u001b[38;5;241m=\u001b[39m pd\u001b[38;5;241m.\u001b[39mread_csv(\u001b[38;5;124m'\u001b[39m\u001b[38;5;124m/content/drive/MyDrive/CS 7641 Machine Learning Group Project/transactions_train.csv\u001b[39m\u001b[38;5;124m'\u001b[39m)\n",
      "File \u001b[0;32m~/anaconda3/lib/python3.11/site-packages/pandas/io/parsers/readers.py:1026\u001b[0m, in \u001b[0;36mread_csv\u001b[0;34m(filepath_or_buffer, sep, delimiter, header, names, index_col, usecols, dtype, engine, converters, true_values, false_values, skipinitialspace, skiprows, skipfooter, nrows, na_values, keep_default_na, na_filter, verbose, skip_blank_lines, parse_dates, infer_datetime_format, keep_date_col, date_parser, date_format, dayfirst, cache_dates, iterator, chunksize, compression, thousands, decimal, lineterminator, quotechar, quoting, doublequote, escapechar, comment, encoding, encoding_errors, dialect, on_bad_lines, delim_whitespace, low_memory, memory_map, float_precision, storage_options, dtype_backend)\u001b[0m\n\u001b[1;32m   1013\u001b[0m kwds_defaults \u001b[38;5;241m=\u001b[39m _refine_defaults_read(\n\u001b[1;32m   1014\u001b[0m     dialect,\n\u001b[1;32m   1015\u001b[0m     delimiter,\n\u001b[0;32m   (...)\u001b[0m\n\u001b[1;32m   1022\u001b[0m     dtype_backend\u001b[38;5;241m=\u001b[39mdtype_backend,\n\u001b[1;32m   1023\u001b[0m )\n\u001b[1;32m   1024\u001b[0m kwds\u001b[38;5;241m.\u001b[39mupdate(kwds_defaults)\n\u001b[0;32m-> 1026\u001b[0m \u001b[38;5;28;01mreturn\u001b[39;00m _read(filepath_or_buffer, kwds)\n",
      "File \u001b[0;32m~/anaconda3/lib/python3.11/site-packages/pandas/io/parsers/readers.py:620\u001b[0m, in \u001b[0;36m_read\u001b[0;34m(filepath_or_buffer, kwds)\u001b[0m\n\u001b[1;32m    617\u001b[0m _validate_names(kwds\u001b[38;5;241m.\u001b[39mget(\u001b[38;5;124m\"\u001b[39m\u001b[38;5;124mnames\u001b[39m\u001b[38;5;124m\"\u001b[39m, \u001b[38;5;28;01mNone\u001b[39;00m))\n\u001b[1;32m    619\u001b[0m \u001b[38;5;66;03m# Create the parser.\u001b[39;00m\n\u001b[0;32m--> 620\u001b[0m parser \u001b[38;5;241m=\u001b[39m TextFileReader(filepath_or_buffer, \u001b[38;5;241m*\u001b[39m\u001b[38;5;241m*\u001b[39mkwds)\n\u001b[1;32m    622\u001b[0m \u001b[38;5;28;01mif\u001b[39;00m chunksize \u001b[38;5;129;01mor\u001b[39;00m iterator:\n\u001b[1;32m    623\u001b[0m     \u001b[38;5;28;01mreturn\u001b[39;00m parser\n",
      "File \u001b[0;32m~/anaconda3/lib/python3.11/site-packages/pandas/io/parsers/readers.py:1620\u001b[0m, in \u001b[0;36mTextFileReader.__init__\u001b[0;34m(self, f, engine, **kwds)\u001b[0m\n\u001b[1;32m   1617\u001b[0m     \u001b[38;5;28mself\u001b[39m\u001b[38;5;241m.\u001b[39moptions[\u001b[38;5;124m\"\u001b[39m\u001b[38;5;124mhas_index_names\u001b[39m\u001b[38;5;124m\"\u001b[39m] \u001b[38;5;241m=\u001b[39m kwds[\u001b[38;5;124m\"\u001b[39m\u001b[38;5;124mhas_index_names\u001b[39m\u001b[38;5;124m\"\u001b[39m]\n\u001b[1;32m   1619\u001b[0m \u001b[38;5;28mself\u001b[39m\u001b[38;5;241m.\u001b[39mhandles: IOHandles \u001b[38;5;241m|\u001b[39m \u001b[38;5;28;01mNone\u001b[39;00m \u001b[38;5;241m=\u001b[39m \u001b[38;5;28;01mNone\u001b[39;00m\n\u001b[0;32m-> 1620\u001b[0m \u001b[38;5;28mself\u001b[39m\u001b[38;5;241m.\u001b[39m_engine \u001b[38;5;241m=\u001b[39m \u001b[38;5;28mself\u001b[39m\u001b[38;5;241m.\u001b[39m_make_engine(f, \u001b[38;5;28mself\u001b[39m\u001b[38;5;241m.\u001b[39mengine)\n",
      "File \u001b[0;32m~/anaconda3/lib/python3.11/site-packages/pandas/io/parsers/readers.py:1880\u001b[0m, in \u001b[0;36mTextFileReader._make_engine\u001b[0;34m(self, f, engine)\u001b[0m\n\u001b[1;32m   1878\u001b[0m     \u001b[38;5;28;01mif\u001b[39;00m \u001b[38;5;124m\"\u001b[39m\u001b[38;5;124mb\u001b[39m\u001b[38;5;124m\"\u001b[39m \u001b[38;5;129;01mnot\u001b[39;00m \u001b[38;5;129;01min\u001b[39;00m mode:\n\u001b[1;32m   1879\u001b[0m         mode \u001b[38;5;241m+\u001b[39m\u001b[38;5;241m=\u001b[39m \u001b[38;5;124m\"\u001b[39m\u001b[38;5;124mb\u001b[39m\u001b[38;5;124m\"\u001b[39m\n\u001b[0;32m-> 1880\u001b[0m \u001b[38;5;28mself\u001b[39m\u001b[38;5;241m.\u001b[39mhandles \u001b[38;5;241m=\u001b[39m get_handle(\n\u001b[1;32m   1881\u001b[0m     f,\n\u001b[1;32m   1882\u001b[0m     mode,\n\u001b[1;32m   1883\u001b[0m     encoding\u001b[38;5;241m=\u001b[39m\u001b[38;5;28mself\u001b[39m\u001b[38;5;241m.\u001b[39moptions\u001b[38;5;241m.\u001b[39mget(\u001b[38;5;124m\"\u001b[39m\u001b[38;5;124mencoding\u001b[39m\u001b[38;5;124m\"\u001b[39m, \u001b[38;5;28;01mNone\u001b[39;00m),\n\u001b[1;32m   1884\u001b[0m     compression\u001b[38;5;241m=\u001b[39m\u001b[38;5;28mself\u001b[39m\u001b[38;5;241m.\u001b[39moptions\u001b[38;5;241m.\u001b[39mget(\u001b[38;5;124m\"\u001b[39m\u001b[38;5;124mcompression\u001b[39m\u001b[38;5;124m\"\u001b[39m, \u001b[38;5;28;01mNone\u001b[39;00m),\n\u001b[1;32m   1885\u001b[0m     memory_map\u001b[38;5;241m=\u001b[39m\u001b[38;5;28mself\u001b[39m\u001b[38;5;241m.\u001b[39moptions\u001b[38;5;241m.\u001b[39mget(\u001b[38;5;124m\"\u001b[39m\u001b[38;5;124mmemory_map\u001b[39m\u001b[38;5;124m\"\u001b[39m, \u001b[38;5;28;01mFalse\u001b[39;00m),\n\u001b[1;32m   1886\u001b[0m     is_text\u001b[38;5;241m=\u001b[39mis_text,\n\u001b[1;32m   1887\u001b[0m     errors\u001b[38;5;241m=\u001b[39m\u001b[38;5;28mself\u001b[39m\u001b[38;5;241m.\u001b[39moptions\u001b[38;5;241m.\u001b[39mget(\u001b[38;5;124m\"\u001b[39m\u001b[38;5;124mencoding_errors\u001b[39m\u001b[38;5;124m\"\u001b[39m, \u001b[38;5;124m\"\u001b[39m\u001b[38;5;124mstrict\u001b[39m\u001b[38;5;124m\"\u001b[39m),\n\u001b[1;32m   1888\u001b[0m     storage_options\u001b[38;5;241m=\u001b[39m\u001b[38;5;28mself\u001b[39m\u001b[38;5;241m.\u001b[39moptions\u001b[38;5;241m.\u001b[39mget(\u001b[38;5;124m\"\u001b[39m\u001b[38;5;124mstorage_options\u001b[39m\u001b[38;5;124m\"\u001b[39m, \u001b[38;5;28;01mNone\u001b[39;00m),\n\u001b[1;32m   1889\u001b[0m )\n\u001b[1;32m   1890\u001b[0m \u001b[38;5;28;01massert\u001b[39;00m \u001b[38;5;28mself\u001b[39m\u001b[38;5;241m.\u001b[39mhandles \u001b[38;5;129;01mis\u001b[39;00m \u001b[38;5;129;01mnot\u001b[39;00m \u001b[38;5;28;01mNone\u001b[39;00m\n\u001b[1;32m   1891\u001b[0m f \u001b[38;5;241m=\u001b[39m \u001b[38;5;28mself\u001b[39m\u001b[38;5;241m.\u001b[39mhandles\u001b[38;5;241m.\u001b[39mhandle\n",
      "File \u001b[0;32m~/anaconda3/lib/python3.11/site-packages/pandas/io/common.py:873\u001b[0m, in \u001b[0;36mget_handle\u001b[0;34m(path_or_buf, mode, encoding, compression, memory_map, is_text, errors, storage_options)\u001b[0m\n\u001b[1;32m    868\u001b[0m \u001b[38;5;28;01melif\u001b[39;00m \u001b[38;5;28misinstance\u001b[39m(handle, \u001b[38;5;28mstr\u001b[39m):\n\u001b[1;32m    869\u001b[0m     \u001b[38;5;66;03m# Check whether the filename is to be opened in binary mode.\u001b[39;00m\n\u001b[1;32m    870\u001b[0m     \u001b[38;5;66;03m# Binary mode does not support 'encoding' and 'newline'.\u001b[39;00m\n\u001b[1;32m    871\u001b[0m     \u001b[38;5;28;01mif\u001b[39;00m ioargs\u001b[38;5;241m.\u001b[39mencoding \u001b[38;5;129;01mand\u001b[39;00m \u001b[38;5;124m\"\u001b[39m\u001b[38;5;124mb\u001b[39m\u001b[38;5;124m\"\u001b[39m \u001b[38;5;129;01mnot\u001b[39;00m \u001b[38;5;129;01min\u001b[39;00m ioargs\u001b[38;5;241m.\u001b[39mmode:\n\u001b[1;32m    872\u001b[0m         \u001b[38;5;66;03m# Encoding\u001b[39;00m\n\u001b[0;32m--> 873\u001b[0m         handle \u001b[38;5;241m=\u001b[39m \u001b[38;5;28mopen\u001b[39m(\n\u001b[1;32m    874\u001b[0m             handle,\n\u001b[1;32m    875\u001b[0m             ioargs\u001b[38;5;241m.\u001b[39mmode,\n\u001b[1;32m    876\u001b[0m             encoding\u001b[38;5;241m=\u001b[39mioargs\u001b[38;5;241m.\u001b[39mencoding,\n\u001b[1;32m    877\u001b[0m             errors\u001b[38;5;241m=\u001b[39merrors,\n\u001b[1;32m    878\u001b[0m             newline\u001b[38;5;241m=\u001b[39m\u001b[38;5;124m\"\u001b[39m\u001b[38;5;124m\"\u001b[39m,\n\u001b[1;32m    879\u001b[0m         )\n\u001b[1;32m    880\u001b[0m     \u001b[38;5;28;01melse\u001b[39;00m:\n\u001b[1;32m    881\u001b[0m         \u001b[38;5;66;03m# Binary mode\u001b[39;00m\n\u001b[1;32m    882\u001b[0m         handle \u001b[38;5;241m=\u001b[39m \u001b[38;5;28mopen\u001b[39m(handle, ioargs\u001b[38;5;241m.\u001b[39mmode)\n",
      "\u001b[0;31mFileNotFoundError\u001b[0m: [Errno 2] No such file or directory: '/content/drive/MyDrive/CS 7641 Machine Learning Group Project/articles.csv'"
     ]
    }
   ],
   "source": [
    "articles = pd.read_csv(\"~/Projects/Machine Learning 7641/h-and-m-data/articles.csv\")\n",
    "customers = pd.read_csv(\"~/Projects/Machine Learning 7641/h-and-m-data/customers.csv\")\n",
    "transactions = pd.read_csv(\"~/Projects/Machine Learning 7641/h-and-m-data/transactions_train.csv\")\n",
    "transactions = pd.read_csv('/content/drive/MyDrive/CS 7641 Machine Learning Group Project/transactions_train.csv')"
   ]
  },
  {
   "cell_type": "code",
   "execution_count": 5,
   "id": "fdc6ffbe-8b22-4738-a169-8218d1066932",
   "metadata": {
    "colab": {
     "base_uri": "https://localhost:8080/",
     "height": 516
    },
    "collapsed": false,
    "id": "4ikJlqWAGmn7",
    "outputId": "267e44db-3b38-46fe-a5df-42f9503e5342"
   },
   "outputs": [
    {
     "ename": "NameError",
     "evalue": "name 'articles' is not defined",
     "output_type": "error",
     "traceback": [
      "\u001b[0;31m---------------------------------------------------------------------------\u001b[0m",
      "\u001b[0;31mNameError\u001b[0m                                 Traceback (most recent call last)",
      "Cell \u001b[0;32mIn[5], line 1\u001b[0m\n\u001b[0;32m----> 1\u001b[0m articles\u001b[38;5;241m.\u001b[39mhead()\n",
      "\u001b[0;31mNameError\u001b[0m: name 'articles' is not defined"
     ]
    }
   ],
   "source": [
    "articles.head()"
   ]
  },
  {
   "cell_type": "code",
   "execution_count": 6,
   "id": "74018a9d-30dd-4d35-8f4f-8c87cf03c22f",
   "metadata": {
    "colab": {
     "base_uri": "https://localhost:8080/",
     "height": 206
    },
    "collapsed": false,
    "id": "1yWHjSc-JFyS",
    "outputId": "7bc7e012-1971-4642-9a75-9c6b4a32553a"
   },
   "outputs": [
    {
     "ename": "NameError",
     "evalue": "name 'customers' is not defined",
     "output_type": "error",
     "traceback": [
      "\u001b[0;31m---------------------------------------------------------------------------\u001b[0m",
      "\u001b[0;31mNameError\u001b[0m                                 Traceback (most recent call last)",
      "Cell \u001b[0;32mIn[6], line 1\u001b[0m\n\u001b[0;32m----> 1\u001b[0m customers\u001b[38;5;241m.\u001b[39mhead()\n",
      "\u001b[0;31mNameError\u001b[0m: name 'customers' is not defined"
     ]
    }
   ],
   "source": [
    "customers.head()"
   ]
  },
  {
   "cell_type": "code",
   "execution_count": 7,
   "id": "215de2a4-eaf9-4d1c-894f-cf23162fbe19",
   "metadata": {
    "colab": {
     "base_uri": "https://localhost:8080/",
     "height": 206
    },
    "collapsed": false,
    "id": "0WHCHTG3JJf4",
    "outputId": "a865300f-aa40-4c8f-bb54-c53a3aadee7f"
   },
   "outputs": [
    {
     "ename": "NameError",
     "evalue": "name 'transactions' is not defined",
     "output_type": "error",
     "traceback": [
      "\u001b[0;31m---------------------------------------------------------------------------\u001b[0m",
      "\u001b[0;31mNameError\u001b[0m                                 Traceback (most recent call last)",
      "Cell \u001b[0;32mIn[7], line 1\u001b[0m\n\u001b[0;32m----> 1\u001b[0m transactions\u001b[38;5;241m.\u001b[39mhead()\n",
      "\u001b[0;31mNameError\u001b[0m: name 'transactions' is not defined"
     ]
    }
   ],
   "source": [
    "transactions.head()"
   ]
  },
  {
   "cell_type": "code",
   "execution_count": 8,
   "id": "28507aa1-99dc-42a6-beb9-336146bac230",
   "metadata": {
    "colab": {
     "base_uri": "https://localhost:8080/"
    },
    "collapsed": false,
    "id": "5X5CFnmbG1Pn",
    "outputId": "38dc8b79-5c56-44ca-b3fe-1331e26344c2"
   },
   "outputs": [
    {
     "ename": "NameError",
     "evalue": "name 'articles' is not defined",
     "output_type": "error",
     "traceback": [
      "\u001b[0;31m---------------------------------------------------------------------------\u001b[0m",
      "\u001b[0;31mNameError\u001b[0m                                 Traceback (most recent call last)",
      "Cell \u001b[0;32mIn[8], line 1\u001b[0m\n\u001b[0;32m----> 1\u001b[0m articles_Dict \u001b[38;5;241m=\u001b[39m pd\u001b[38;5;241m.\u001b[39mDataFrame({\u001b[38;5;124m'\u001b[39m\u001b[38;5;124mUnique_Cnt\u001b[39m\u001b[38;5;124m'\u001b[39m: articles\u001b[38;5;241m.\u001b[39mnunique(),\n\u001b[1;32m      2\u001b[0m                 \u001b[38;5;124m'\u001b[39m\u001b[38;5;124mNull_Count\u001b[39m\u001b[38;5;124m'\u001b[39m: articles\u001b[38;5;241m.\u001b[39misnull()\u001b[38;5;241m.\u001b[39msum()})\n\u001b[1;32m      3\u001b[0m \u001b[38;5;28mprint\u001b[39m(articles_Dict)\n",
      "\u001b[0;31mNameError\u001b[0m: name 'articles' is not defined"
     ]
    }
   ],
   "source": [
    "articles_Dict = pd.DataFrame({'Unique_Cnt': articles.nunique(),\n",
    "                'Null_Count': articles.isnull().sum()})\n",
    "print(articles_Dict)"
   ]
  },
  {
   "cell_type": "code",
   "execution_count": 9,
   "id": "c0597f55-565c-49cf-a07f-402dbffbf8a0",
   "metadata": {
    "colab": {
     "base_uri": "https://localhost:8080/"
    },
    "collapsed": false,
    "id": "fouNWXwEHlbo",
    "outputId": "7e0f658c-35a8-40f2-bbe5-8148a65a87d2"
   },
   "outputs": [
    {
     "ename": "NameError",
     "evalue": "name 'customers' is not defined",
     "output_type": "error",
     "traceback": [
      "\u001b[0;31m---------------------------------------------------------------------------\u001b[0m",
      "\u001b[0;31mNameError\u001b[0m                                 Traceback (most recent call last)",
      "Cell \u001b[0;32mIn[9], line 1\u001b[0m\n\u001b[0;32m----> 1\u001b[0m customer_Dict \u001b[38;5;241m=\u001b[39m pd\u001b[38;5;241m.\u001b[39mDataFrame({\u001b[38;5;124m'\u001b[39m\u001b[38;5;124mUnique_Cnt\u001b[39m\u001b[38;5;124m'\u001b[39m: customers\u001b[38;5;241m.\u001b[39mnunique(),\n\u001b[1;32m      2\u001b[0m                 \u001b[38;5;124m'\u001b[39m\u001b[38;5;124mNull_Count\u001b[39m\u001b[38;5;124m'\u001b[39m: customers\u001b[38;5;241m.\u001b[39misnull()\u001b[38;5;241m.\u001b[39msum()})\n\u001b[1;32m      3\u001b[0m \u001b[38;5;28mprint\u001b[39m(customer_Dict)\n",
      "\u001b[0;31mNameError\u001b[0m: name 'customers' is not defined"
     ]
    }
   ],
   "source": [
    "customer_Dict = pd.DataFrame({'Unique_Cnt': customers.nunique(),\n",
    "                'Null_Count': customers.isnull().sum()})\n",
    "print(customer_Dict)"
   ]
  },
  {
   "cell_type": "code",
   "execution_count": 10,
   "id": "d183a743-97fd-4b4d-a374-5c770b68ef1d",
   "metadata": {
    "colab": {
     "base_uri": "https://localhost:8080/"
    },
    "collapsed": false,
    "id": "_RS-mWQGX4CV",
    "outputId": "0da4845e-f74d-4860-b94f-7fc79e7bf60e"
   },
   "outputs": [
    {
     "ename": "NameError",
     "evalue": "name 'transactions' is not defined",
     "output_type": "error",
     "traceback": [
      "\u001b[0;31m---------------------------------------------------------------------------\u001b[0m",
      "\u001b[0;31mNameError\u001b[0m                                 Traceback (most recent call last)",
      "Cell \u001b[0;32mIn[10], line 1\u001b[0m\n\u001b[0;32m----> 1\u001b[0m trans_Dict \u001b[38;5;241m=\u001b[39m pd\u001b[38;5;241m.\u001b[39mDataFrame({\u001b[38;5;124m'\u001b[39m\u001b[38;5;124mUnique_Cnt\u001b[39m\u001b[38;5;124m'\u001b[39m: transactions\u001b[38;5;241m.\u001b[39mnunique(),\n\u001b[1;32m      2\u001b[0m                 \u001b[38;5;124m'\u001b[39m\u001b[38;5;124mNull_Count\u001b[39m\u001b[38;5;124m'\u001b[39m: transactions\u001b[38;5;241m.\u001b[39misnull()\u001b[38;5;241m.\u001b[39msum()})\n\u001b[1;32m      3\u001b[0m \u001b[38;5;28mprint\u001b[39m(trans_Dict)\n",
      "\u001b[0;31mNameError\u001b[0m: name 'transactions' is not defined"
     ]
    }
   ],
   "source": [
    "trans_Dict = pd.DataFrame({'Unique_Cnt': transactions.nunique(),\n",
    "                'Null_Count': transactions.isnull().sum()})\n",
    "print(trans_Dict)"
   ]
  },
  {
   "cell_type": "markdown",
   "id": "55a2d849-9106-4f02-b2dd-d832e1b15077",
   "metadata": {
    "collapsed": false,
    "id": "bxalkyPAqbr3"
   },
   "source": [
    "We observe that features for which we expect to have the same number of unique value, like product_type_no and product_type_name, departmant_no and department_name, section_no and section_name have different number of unique values, which might means that we might have categories with same name.\n",
    "\n",
    "Others, like: index_code and index_name, garment_group_no and garment_group_name have the same number of unique values.\n",
    "\n",
    "We also observe that none of the required values are none"
   ]
  },
  {
   "cell_type": "code",
   "execution_count": 11,
   "id": "238dd2c1-b046-4e2e-8bb5-7b07f9a4020d",
   "metadata": {
    "colab": {
     "base_uri": "https://localhost:8080/",
     "height": 751
    },
    "collapsed": false,
    "id": "-7eu1EtvYg_R",
    "outputId": "80e72d23-fec1-4fa1-dc82-38cfee087713"
   },
   "outputs": [
    {
     "ename": "NameError",
     "evalue": "name 'articles' is not defined",
     "output_type": "error",
     "traceback": [
      "\u001b[0;31m---------------------------------------------------------------------------\u001b[0m",
      "\u001b[0;31mNameError\u001b[0m                                 Traceback (most recent call last)",
      "Cell \u001b[0;32mIn[11], line 1\u001b[0m\n\u001b[0;32m----> 1\u001b[0m temp \u001b[38;5;241m=\u001b[39m articles\u001b[38;5;241m.\u001b[39mgroupby([\u001b[38;5;124m\"\u001b[39m\u001b[38;5;124mproduct_group_name\u001b[39m\u001b[38;5;124m\"\u001b[39m])[\u001b[38;5;124m\"\u001b[39m\u001b[38;5;124mproduct_type_name\u001b[39m\u001b[38;5;124m\"\u001b[39m]\u001b[38;5;241m.\u001b[39mnunique()\n\u001b[1;32m      2\u001b[0m df \u001b[38;5;241m=\u001b[39m pd\u001b[38;5;241m.\u001b[39mDataFrame({\u001b[38;5;124m'\u001b[39m\u001b[38;5;124mProduct Group\u001b[39m\u001b[38;5;124m'\u001b[39m: temp\u001b[38;5;241m.\u001b[39mindex,\n\u001b[1;32m      3\u001b[0m                    \u001b[38;5;124m'\u001b[39m\u001b[38;5;124mProduct Types\u001b[39m\u001b[38;5;124m'\u001b[39m: temp\u001b[38;5;241m.\u001b[39mvalues\n\u001b[1;32m      4\u001b[0m                   })\n\u001b[1;32m      5\u001b[0m df \u001b[38;5;241m=\u001b[39m df\u001b[38;5;241m.\u001b[39msort_values([\u001b[38;5;124m'\u001b[39m\u001b[38;5;124mProduct Types\u001b[39m\u001b[38;5;124m'\u001b[39m], ascending\u001b[38;5;241m=\u001b[39m\u001b[38;5;28;01mFalse\u001b[39;00m)\n",
      "\u001b[0;31mNameError\u001b[0m: name 'articles' is not defined"
     ]
    }
   ],
   "source": [
    "temp = articles.groupby([\"product_group_name\"])[\"product_type_name\"].nunique()\n",
    "df = pd.DataFrame({'Product Group': temp.index,\n",
    "                   'Product Types': temp.values\n",
    "                  })\n",
    "df = df.sort_values(['Product Types'], ascending=False)\n",
    "plt.figure(figsize = (8,6))\n",
    "plt.title('Number of Product Types per each Product Group')\n",
    "sns.set_color_codes(\"pastel\")\n",
    "s = sns.barplot(x = 'Product Group', y=\"Product Types\", data=df)\n",
    "s.set_xticklabels(s.get_xticklabels(),rotation=90)\n",
    "locs, labels = plt.xticks()\n",
    "plt.show()"
   ]
  },
  {
   "cell_type": "code",
   "execution_count": 12,
   "id": "4fb94bf3-b368-45f4-be30-2ad47a63f209",
   "metadata": {
    "colab": {
     "base_uri": "https://localhost:8080/",
     "height": 751
    },
    "collapsed": false,
    "id": "euaBcNHRr3cr",
    "outputId": "9b38d680-d2b3-4700-936e-7c224abc3a61"
   },
   "outputs": [
    {
     "ename": "NameError",
     "evalue": "name 'articles' is not defined",
     "output_type": "error",
     "traceback": [
      "\u001b[0;31m---------------------------------------------------------------------------\u001b[0m",
      "\u001b[0;31mNameError\u001b[0m                                 Traceback (most recent call last)",
      "Cell \u001b[0;32mIn[12], line 1\u001b[0m\n\u001b[0;32m----> 1\u001b[0m temp \u001b[38;5;241m=\u001b[39m articles\u001b[38;5;241m.\u001b[39mgroupby([\u001b[38;5;124m\"\u001b[39m\u001b[38;5;124mproduct_group_name\u001b[39m\u001b[38;5;124m\"\u001b[39m])[\u001b[38;5;124m\"\u001b[39m\u001b[38;5;124marticle_id\u001b[39m\u001b[38;5;124m\"\u001b[39m]\u001b[38;5;241m.\u001b[39mnunique()\n\u001b[1;32m      2\u001b[0m df \u001b[38;5;241m=\u001b[39m pd\u001b[38;5;241m.\u001b[39mDataFrame({\u001b[38;5;124m'\u001b[39m\u001b[38;5;124mProduct Group\u001b[39m\u001b[38;5;124m'\u001b[39m: temp\u001b[38;5;241m.\u001b[39mindex,\n\u001b[1;32m      3\u001b[0m                    \u001b[38;5;124m'\u001b[39m\u001b[38;5;124mArticles\u001b[39m\u001b[38;5;124m'\u001b[39m: temp\u001b[38;5;241m.\u001b[39mvalues\n\u001b[1;32m      4\u001b[0m                   })\n\u001b[1;32m      5\u001b[0m df \u001b[38;5;241m=\u001b[39m df\u001b[38;5;241m.\u001b[39msort_values([\u001b[38;5;124m'\u001b[39m\u001b[38;5;124mArticles\u001b[39m\u001b[38;5;124m'\u001b[39m], ascending\u001b[38;5;241m=\u001b[39m\u001b[38;5;28;01mFalse\u001b[39;00m)\n",
      "\u001b[0;31mNameError\u001b[0m: name 'articles' is not defined"
     ]
    }
   ],
   "source": [
    "temp = articles.groupby([\"product_group_name\"])[\"article_id\"].nunique()\n",
    "df = pd.DataFrame({'Product Group': temp.index,\n",
    "                   'Articles': temp.values\n",
    "                  })\n",
    "df = df.sort_values(['Articles'], ascending=False)\n",
    "plt.figure(figsize = (8,6))\n",
    "plt.title('Number of Articles per each Product Group')\n",
    "sns.set_color_codes(\"pastel\")\n",
    "s = sns.barplot(x = 'Product Group', y=\"Articles\", data=df)\n",
    "s.set_xticklabels(s.get_xticklabels(),rotation=90)\n",
    "locs, labels = plt.xticks()\n",
    "plt.show()"
   ]
  },
  {
   "cell_type": "code",
   "execution_count": 13,
   "id": "6dea2b75-d42d-4706-b7fb-4c604ca2f3d6",
   "metadata": {
    "colab": {
     "base_uri": "https://localhost:8080/",
     "height": 762
    },
    "collapsed": false,
    "id": "l9n9FlBgsOd3",
    "outputId": "85044e28-e524-4f71-d36d-7d733400fa68"
   },
   "outputs": [
    {
     "ename": "NameError",
     "evalue": "name 'articles' is not defined",
     "output_type": "error",
     "traceback": [
      "\u001b[0;31m---------------------------------------------------------------------------\u001b[0m",
      "\u001b[0;31mNameError\u001b[0m                                 Traceback (most recent call last)",
      "Cell \u001b[0;32mIn[13], line 1\u001b[0m\n\u001b[0;32m----> 1\u001b[0m temp \u001b[38;5;241m=\u001b[39m articles\u001b[38;5;241m.\u001b[39mgroupby([\u001b[38;5;124m\"\u001b[39m\u001b[38;5;124mproduct_type_name\u001b[39m\u001b[38;5;124m\"\u001b[39m])[\u001b[38;5;124m\"\u001b[39m\u001b[38;5;124marticle_id\u001b[39m\u001b[38;5;124m\"\u001b[39m]\u001b[38;5;241m.\u001b[39mnunique()\n\u001b[1;32m      2\u001b[0m df \u001b[38;5;241m=\u001b[39m pd\u001b[38;5;241m.\u001b[39mDataFrame({\u001b[38;5;124m'\u001b[39m\u001b[38;5;124mProduct Type\u001b[39m\u001b[38;5;124m'\u001b[39m: temp\u001b[38;5;241m.\u001b[39mindex,\n\u001b[1;32m      3\u001b[0m                    \u001b[38;5;124m'\u001b[39m\u001b[38;5;124mArticles\u001b[39m\u001b[38;5;124m'\u001b[39m: temp\u001b[38;5;241m.\u001b[39mvalues\n\u001b[1;32m      4\u001b[0m                   })\n\u001b[1;32m      5\u001b[0m total_types \u001b[38;5;241m=\u001b[39m \u001b[38;5;28mlen\u001b[39m(df[\u001b[38;5;124m'\u001b[39m\u001b[38;5;124mProduct Type\u001b[39m\u001b[38;5;124m'\u001b[39m]\u001b[38;5;241m.\u001b[39munique())\n",
      "\u001b[0;31mNameError\u001b[0m: name 'articles' is not defined"
     ]
    }
   ],
   "source": [
    "temp = articles.groupby([\"product_type_name\"])[\"article_id\"].nunique()\n",
    "df = pd.DataFrame({'Product Type': temp.index,\n",
    "                   'Articles': temp.values\n",
    "                  })\n",
    "total_types = len(df['Product Type'].unique())\n",
    "df = df.sort_values(['Articles'], ascending=False)[0:50]\n",
    "plt.figure(figsize = (16,6))\n",
    "plt.title(f'Number of Articles per each Product Type (top 50 from total: {total_types})')\n",
    "sns.set_color_codes(\"pastel\")\n",
    "s = sns.barplot(x = 'Product Type', y=\"Articles\", data=df)\n",
    "s.set_xticklabels(s.get_xticklabels(),rotation=90)\n",
    "locs, labels = plt.xticks()\n",
    "plt.show()"
   ]
  },
  {
   "cell_type": "code",
   "execution_count": 14,
   "id": "02b3a2fe-c277-43c4-950d-5ff502518e84",
   "metadata": {
    "colab": {
     "base_uri": "https://localhost:8080/",
     "height": 697
    },
    "collapsed": false,
    "id": "u868YlrGsYMJ",
    "outputId": "cbd0a05f-0b10-45bc-ca9a-5e74091fec92"
   },
   "outputs": [
    {
     "ename": "NameError",
     "evalue": "name 'articles' is not defined",
     "output_type": "error",
     "traceback": [
      "\u001b[0;31m---------------------------------------------------------------------------\u001b[0m",
      "\u001b[0;31mNameError\u001b[0m                                 Traceback (most recent call last)",
      "Cell \u001b[0;32mIn[14], line 1\u001b[0m\n\u001b[0;32m----> 1\u001b[0m temp \u001b[38;5;241m=\u001b[39m articles\u001b[38;5;241m.\u001b[39mgroupby([\u001b[38;5;124m\"\u001b[39m\u001b[38;5;124mcolour_group_name\u001b[39m\u001b[38;5;124m\"\u001b[39m])[\u001b[38;5;124m\"\u001b[39m\u001b[38;5;124marticle_id\u001b[39m\u001b[38;5;124m\"\u001b[39m]\u001b[38;5;241m.\u001b[39mnunique()\n\u001b[1;32m      2\u001b[0m df \u001b[38;5;241m=\u001b[39m pd\u001b[38;5;241m.\u001b[39mDataFrame({\u001b[38;5;124m'\u001b[39m\u001b[38;5;124mColour Group Name\u001b[39m\u001b[38;5;124m'\u001b[39m: temp\u001b[38;5;241m.\u001b[39mindex,\n\u001b[1;32m      3\u001b[0m                    \u001b[38;5;124m'\u001b[39m\u001b[38;5;124mArticles\u001b[39m\u001b[38;5;124m'\u001b[39m: temp\u001b[38;5;241m.\u001b[39mvalues\n\u001b[1;32m      4\u001b[0m                   })\n\u001b[1;32m      5\u001b[0m df \u001b[38;5;241m=\u001b[39m df\u001b[38;5;241m.\u001b[39msort_values([\u001b[38;5;124m'\u001b[39m\u001b[38;5;124mArticles\u001b[39m\u001b[38;5;124m'\u001b[39m], ascending\u001b[38;5;241m=\u001b[39m\u001b[38;5;28;01mFalse\u001b[39;00m)\n",
      "\u001b[0;31mNameError\u001b[0m: name 'articles' is not defined"
     ]
    }
   ],
   "source": [
    "temp = articles.groupby([\"colour_group_name\"])[\"article_id\"].nunique()\n",
    "df = pd.DataFrame({'Colour Group Name': temp.index,\n",
    "                   'Articles': temp.values\n",
    "                  })\n",
    "df = df.sort_values(['Articles'], ascending=False)\n",
    "plt.figure(figsize = (12,6))\n",
    "plt.title(f'Number of Articles per each Colour Group Name')\n",
    "sns.set_color_codes(\"pastel\")\n",
    "s = sns.barplot(x = 'Colour Group Name', y=\"Articles\", data=df)\n",
    "s.set_xticklabels(s.get_xticklabels(),rotation=90)\n",
    "locs, labels = plt.xticks()\n",
    "plt.show()"
   ]
  },
  {
   "cell_type": "code",
   "execution_count": 15,
   "id": "5a98fe30-b2d8-4ebd-ab26-843964585e09",
   "metadata": {
    "colab": {
     "base_uri": "https://localhost:8080/",
     "height": 617
    },
    "collapsed": false,
    "id": "Pu11xcI5sxqX",
    "outputId": "188e8afa-db21-4066-8922-11be9875764b"
   },
   "outputs": [
    {
     "ename": "NameError",
     "evalue": "name 'customers' is not defined",
     "output_type": "error",
     "traceback": [
      "\u001b[0;31m---------------------------------------------------------------------------\u001b[0m",
      "\u001b[0;31mNameError\u001b[0m                                 Traceback (most recent call last)",
      "Cell \u001b[0;32mIn[15], line 1\u001b[0m\n\u001b[0;32m----> 1\u001b[0m temp \u001b[38;5;241m=\u001b[39m customers\u001b[38;5;241m.\u001b[39mgroupby([\u001b[38;5;124m\"\u001b[39m\u001b[38;5;124mage\u001b[39m\u001b[38;5;124m\"\u001b[39m])[\u001b[38;5;124m\"\u001b[39m\u001b[38;5;124mcustomer_id\u001b[39m\u001b[38;5;124m\"\u001b[39m]\u001b[38;5;241m.\u001b[39mcount()\n\u001b[1;32m      2\u001b[0m df \u001b[38;5;241m=\u001b[39m pd\u001b[38;5;241m.\u001b[39mDataFrame({\u001b[38;5;124m'\u001b[39m\u001b[38;5;124mAge\u001b[39m\u001b[38;5;124m'\u001b[39m: temp\u001b[38;5;241m.\u001b[39mindex,\n\u001b[1;32m      3\u001b[0m                    \u001b[38;5;124m'\u001b[39m\u001b[38;5;124mCustomers\u001b[39m\u001b[38;5;124m'\u001b[39m: temp\u001b[38;5;241m.\u001b[39mvalues\n\u001b[1;32m      4\u001b[0m                   })\n\u001b[1;32m      5\u001b[0m df \u001b[38;5;241m=\u001b[39m df\u001b[38;5;241m.\u001b[39msort_values([\u001b[38;5;124m'\u001b[39m\u001b[38;5;124mAge\u001b[39m\u001b[38;5;124m'\u001b[39m], ascending\u001b[38;5;241m=\u001b[39m\u001b[38;5;28;01mFalse\u001b[39;00m)\n",
      "\u001b[0;31mNameError\u001b[0m: name 'customers' is not defined"
     ]
    }
   ],
   "source": [
    "temp = customers.groupby([\"age\"])[\"customer_id\"].count()\n",
    "df = pd.DataFrame({'Age': temp.index,\n",
    "                   'Customers': temp.values\n",
    "                  })\n",
    "df = df.sort_values(['Age'], ascending=False)\n",
    "plt.figure(figsize = (16,6))\n",
    "plt.title(f'Number of Customers per each Age')\n",
    "sns.set_color_codes(\"pastel\")\n",
    "s = sns.barplot(x = 'Age', y=\"Customers\", data=df)\n",
    "s.set_xticklabels(s.get_xticklabels(),rotation=90)\n",
    "locs, labels = plt.xticks()\n",
    "plt.show()"
   ]
  },
  {
   "cell_type": "code",
   "execution_count": 16,
   "id": "58390d57-8e8e-43bc-bce9-71e06596313b",
   "metadata": {
    "colab": {
     "base_uri": "https://localhost:8080/",
     "height": 641
    },
    "collapsed": false,
    "id": "tTOFaXKWtCOk",
    "outputId": "daa90782-814c-40c8-af1f-ac60e580514d"
   },
   "outputs": [
    {
     "ename": "NameError",
     "evalue": "name 'transactions' is not defined",
     "output_type": "error",
     "traceback": [
      "\u001b[0;31m---------------------------------------------------------------------------\u001b[0m",
      "\u001b[0;31mNameError\u001b[0m                                 Traceback (most recent call last)",
      "Cell \u001b[0;32mIn[16], line 1\u001b[0m\n\u001b[0;32m----> 1\u001b[0m df \u001b[38;5;241m=\u001b[39m transactions\u001b[38;5;241m.\u001b[39msample(\u001b[38;5;241m100_000\u001b[39m)\n\u001b[1;32m      2\u001b[0m fig, ax \u001b[38;5;241m=\u001b[39m plt\u001b[38;5;241m.\u001b[39msubplots(\u001b[38;5;241m1\u001b[39m, \u001b[38;5;241m1\u001b[39m, figsize\u001b[38;5;241m=\u001b[39m(\u001b[38;5;241m14\u001b[39m, \u001b[38;5;241m7\u001b[39m))\n\u001b[1;32m      3\u001b[0m sns\u001b[38;5;241m.\u001b[39mkdeplot(np\u001b[38;5;241m.\u001b[39mlog(df\u001b[38;5;241m.\u001b[39mloc[df[\u001b[38;5;124m\"\u001b[39m\u001b[38;5;124msales_channel_id\u001b[39m\u001b[38;5;124m\"\u001b[39m]\u001b[38;5;241m==\u001b[39m\u001b[38;5;241m1\u001b[39m]\u001b[38;5;241m.\u001b[39mprice\u001b[38;5;241m.\u001b[39mvalue_counts()))\n",
      "\u001b[0;31mNameError\u001b[0m: name 'transactions' is not defined"
     ]
    }
   ],
   "source": [
    "df = transactions.sample(100_000)\n",
    "fig, ax = plt.subplots(1, 1, figsize=(14, 7))\n",
    "sns.kdeplot(np.log(df.loc[df[\"sales_channel_id\"]==1].price.value_counts()))\n",
    "sns.kdeplot(np.log(df.loc[df[\"sales_channel_id\"]==2].price.value_counts()))\n",
    "ax.legend(labels=['Sales channel 1', 'Sales channel 1'])\n",
    "plt.title(\"Logaritmic distribution of price frequency in transactions, grouped per sales channel (100k sample)\")\n",
    "plt.show()"
   ]
  },
  {
   "cell_type": "code",
   "execution_count": 17,
   "id": "2fd2357e-17a4-4755-ad4c-c167e37f303d",
   "metadata": {
    "colab": {
     "base_uri": "https://localhost:8080/",
     "height": 468
    },
    "collapsed": false,
    "id": "Ea8iTvNokZET",
    "outputId": "41be5b6d-8bcb-4b44-e7ff-fd1a6b22e6ed"
   },
   "outputs": [
    {
     "ename": "NameError",
     "evalue": "name 'transactions' is not defined",
     "output_type": "error",
     "traceback": [
      "\u001b[0;31m---------------------------------------------------------------------------\u001b[0m",
      "\u001b[0;31mNameError\u001b[0m                                 Traceback (most recent call last)",
      "Cell \u001b[0;32mIn[17], line 1\u001b[0m\n\u001b[0;32m----> 1\u001b[0m transactions[\u001b[38;5;124m'\u001b[39m\u001b[38;5;124mt_dat\u001b[39m\u001b[38;5;124m'\u001b[39m]\u001b[38;5;241m.\u001b[39mvalue_counts()\u001b[38;5;241m.\u001b[39mplot()\n",
      "\u001b[0;31mNameError\u001b[0m: name 'transactions' is not defined"
     ]
    }
   ],
   "source": [
    "transactions['t_dat'].value_counts().plot()"
   ]
  },
  {
   "cell_type": "markdown",
   "id": "f8fc4a4b-45b3-4810-b39b-6066bbab17fd",
   "metadata": {
    "collapsed": false,
    "id": "HmFoHDwbuswY"
   },
   "source": [
    "We will only use the most recent transactions, so there is no need to read in the whole file everytime and biases introduced by old samples will be eleminated"
   ]
  },
  {
   "cell_type": "code",
   "execution_count": 18,
   "id": "657786b6-533f-4e4a-8af2-55c9491d5545",
   "metadata": {
    "colab": {
     "base_uri": "https://localhost:8080/"
    },
    "collapsed": false,
    "id": "SXBKqdwsuN7m",
    "outputId": "e01f0f48-6b17-4331-ee44-0f7d4f1b16fe"
   },
   "outputs": [
    {
     "ename": "NameError",
     "evalue": "name 'transactions' is not defined",
     "output_type": "error",
     "traceback": [
      "\u001b[0;31m---------------------------------------------------------------------------\u001b[0m",
      "\u001b[0;31mNameError\u001b[0m                                 Traceback (most recent call last)",
      "Cell \u001b[0;32mIn[18], line 1\u001b[0m\n\u001b[0;32m----> 1\u001b[0m \u001b[38;5;28mprint\u001b[39m(transactions\u001b[38;5;241m.\u001b[39mt_dat\u001b[38;5;241m.\u001b[39mmin())\n\u001b[1;32m      2\u001b[0m \u001b[38;5;28mprint\u001b[39m(transactions\u001b[38;5;241m.\u001b[39mt_dat\u001b[38;5;241m.\u001b[39mmax())\n",
      "\u001b[0;31mNameError\u001b[0m: name 'transactions' is not defined"
     ]
    }
   ],
   "source": [
    "print(transactions.t_dat.min())\n",
    "print(transactions.t_dat.max())"
   ]
  },
  {
   "cell_type": "code",
   "execution_count": 19,
   "id": "a33b0604-521b-45bc-8fb6-4b73ec462e14",
   "metadata": {
    "collapsed": false,
    "id": "ISI1wzqLvvBt"
   },
   "outputs": [
    {
     "ename": "NameError",
     "evalue": "name 'transactions' is not defined",
     "output_type": "error",
     "traceback": [
      "\u001b[0;31m---------------------------------------------------------------------------\u001b[0m",
      "\u001b[0;31mNameError\u001b[0m                                 Traceback (most recent call last)",
      "Cell \u001b[0;32mIn[19], line 1\u001b[0m\n\u001b[0;32m----> 1\u001b[0m transactions\u001b[38;5;241m.\u001b[39mt_dat \u001b[38;5;241m=\u001b[39m pd\u001b[38;5;241m.\u001b[39mto_datetime(transactions\u001b[38;5;241m.\u001b[39mt_dat)\n\u001b[1;32m      2\u001b[0m transactions \u001b[38;5;241m=\u001b[39m transactions\u001b[38;5;241m.\u001b[39mloc[transactions\u001b[38;5;241m.\u001b[39mt_dat \u001b[38;5;241m>\u001b[39m\u001b[38;5;241m=\u001b[39m \u001b[38;5;124m'\u001b[39m\u001b[38;5;124m2019-03-01\u001b[39m\u001b[38;5;124m'\u001b[39m,:]\n",
      "\u001b[0;31mNameError\u001b[0m: name 'transactions' is not defined"
     ]
    }
   ],
   "source": [
    "transactions.t_dat = pd.to_datetime(transactions.t_dat)\n",
    "transactions = transactions.loc[transactions.t_dat >= '2019-03-01',:]"
   ]
  },
  {
   "cell_type": "code",
   "execution_count": 20,
   "id": "e7d501bb-9674-45cc-90cd-7ba9cadb2541",
   "metadata": {
    "colab": {
     "base_uri": "https://localhost:8080/",
     "height": 490
    },
    "collapsed": false,
    "id": "L7sMdfC8xqYn",
    "outputId": "e9fd0658-8570-4f13-b515-0c73187115c4"
   },
   "outputs": [
    {
     "ename": "NameError",
     "evalue": "name 'transactions' is not defined",
     "output_type": "error",
     "traceback": [
      "\u001b[0;31m---------------------------------------------------------------------------\u001b[0m",
      "\u001b[0;31mNameError\u001b[0m                                 Traceback (most recent call last)",
      "Cell \u001b[0;32mIn[20], line 2\u001b[0m\n\u001b[1;32m      1\u001b[0m \u001b[38;5;66;03m# How many items do customers typically buy?\u001b[39;00m\n\u001b[0;32m----> 2\u001b[0m transactions\u001b[38;5;241m.\u001b[39mcustomer_id\u001b[38;5;241m.\u001b[39mvalue_counts()\n",
      "\u001b[0;31mNameError\u001b[0m: name 'transactions' is not defined"
     ]
    }
   ],
   "source": [
    "# How many items do customers typically buy?\n",
    "transactions.customer_id.value_counts()"
   ]
  },
  {
   "cell_type": "markdown",
   "id": "8b9e9d8c-5023-4bb2-9950-914b0739a55c",
   "metadata": {
    "collapsed": false,
    "id": "dqAp_T6_EIri"
   },
   "source": [
    "Removing NULL values in customers"
   ]
  },
  {
   "cell_type": "code",
   "execution_count": 21,
   "id": "8b392108-49eb-4d62-aac7-89f77b148f59",
   "metadata": {
    "collapsed": false,
    "id": "je2pfJv2EGZo"
   },
   "outputs": [
    {
     "ename": "NameError",
     "evalue": "name 'customers' is not defined",
     "output_type": "error",
     "traceback": [
      "\u001b[0;31m---------------------------------------------------------------------------\u001b[0m",
      "\u001b[0;31mNameError\u001b[0m                                 Traceback (most recent call last)",
      "Cell \u001b[0;32mIn[21], line 1\u001b[0m\n\u001b[0;32m----> 1\u001b[0m customers[\u001b[38;5;124m\"\u001b[39m\u001b[38;5;124mclub_member_status\u001b[39m\u001b[38;5;124m\"\u001b[39m] \u001b[38;5;241m=\u001b[39m customers[\u001b[38;5;124m\"\u001b[39m\u001b[38;5;124mclub_member_status\u001b[39m\u001b[38;5;124m\"\u001b[39m]\u001b[38;5;241m.\u001b[39mfillna(\u001b[38;5;124m'\u001b[39m\u001b[38;5;124mINACTIVE\u001b[39m\u001b[38;5;124m'\u001b[39m)\n\u001b[1;32m      2\u001b[0m customers[\u001b[38;5;124m\"\u001b[39m\u001b[38;5;124mclub_member_status\u001b[39m\u001b[38;5;124m\"\u001b[39m] \u001b[38;5;241m=\u001b[39m customers[\u001b[38;5;124m\"\u001b[39m\u001b[38;5;124mclub_member_status\u001b[39m\u001b[38;5;124m\"\u001b[39m]\u001b[38;5;241m.\u001b[39mreplace([\u001b[38;5;124m\"\u001b[39m\u001b[38;5;124mPRE-CREATE\u001b[39m\u001b[38;5;124m\"\u001b[39m], \u001b[38;5;124m\"\u001b[39m\u001b[38;5;124mINACTIVE\u001b[39m\u001b[38;5;124m\"\u001b[39m)\n\u001b[1;32m      3\u001b[0m customers[\u001b[38;5;124m\"\u001b[39m\u001b[38;5;124mclub_member_status\u001b[39m\u001b[38;5;124m\"\u001b[39m] \u001b[38;5;241m=\u001b[39m customers[\u001b[38;5;124m\"\u001b[39m\u001b[38;5;124mclub_member_status\u001b[39m\u001b[38;5;124m\"\u001b[39m]\u001b[38;5;241m.\u001b[39mreplace([\u001b[38;5;124m\"\u001b[39m\u001b[38;5;124mLEFT CLUB\u001b[39m\u001b[38;5;124m\"\u001b[39m], \u001b[38;5;124m\"\u001b[39m\u001b[38;5;124mINACTIVE\u001b[39m\u001b[38;5;124m\"\u001b[39m)\n",
      "\u001b[0;31mNameError\u001b[0m: name 'customers' is not defined"
     ]
    }
   ],
   "source": [
    "customers[\"club_member_status\"] = customers[\"club_member_status\"].fillna('INACTIVE')\n",
    "customers[\"club_member_status\"] = customers[\"club_member_status\"].replace([\"PRE-CREATE\"], \"INACTIVE\")\n",
    "customers[\"club_member_status\"] = customers[\"club_member_status\"].replace([\"LEFT CLUB\"], \"INACTIVE\")"
   ]
  },
  {
   "cell_type": "code",
   "execution_count": 22,
   "id": "346ffbce-d6cd-4e69-ab77-4ce0bc332de6",
   "metadata": {
    "collapsed": false,
    "id": "M8lyCi8OEf4F"
   },
   "outputs": [
    {
     "ename": "NameError",
     "evalue": "name 'customers' is not defined",
     "output_type": "error",
     "traceback": [
      "\u001b[0;31m---------------------------------------------------------------------------\u001b[0m",
      "\u001b[0;31mNameError\u001b[0m                                 Traceback (most recent call last)",
      "Cell \u001b[0;32mIn[22], line 1\u001b[0m\n\u001b[0;32m----> 1\u001b[0m customers[\u001b[38;5;124m\"\u001b[39m\u001b[38;5;124mfashion_news_frequency\u001b[39m\u001b[38;5;124m\"\u001b[39m] \u001b[38;5;241m=\u001b[39m customers[\u001b[38;5;124m\"\u001b[39m\u001b[38;5;124mfashion_news_frequency\u001b[39m\u001b[38;5;124m\"\u001b[39m]\u001b[38;5;241m.\u001b[39mfillna(\u001b[38;5;124m'\u001b[39m\u001b[38;5;124mNONE\u001b[39m\u001b[38;5;124m'\u001b[39m)\n\u001b[1;32m      2\u001b[0m customers[\u001b[38;5;124m\"\u001b[39m\u001b[38;5;124mfashion_news_frequency\u001b[39m\u001b[38;5;124m\"\u001b[39m] \u001b[38;5;241m=\u001b[39m customers[\u001b[38;5;124m\"\u001b[39m\u001b[38;5;124mfashion_news_frequency\u001b[39m\u001b[38;5;124m\"\u001b[39m]\u001b[38;5;241m.\u001b[39mreplace([\u001b[38;5;124m\"\u001b[39m\u001b[38;5;124mNone\u001b[39m\u001b[38;5;124m\"\u001b[39m], \u001b[38;5;124m\"\u001b[39m\u001b[38;5;124mNONE\u001b[39m\u001b[38;5;124m\"\u001b[39m)\n\u001b[1;32m      3\u001b[0m customers[\u001b[38;5;124m\"\u001b[39m\u001b[38;5;124mfashion_news_frequency\u001b[39m\u001b[38;5;124m\"\u001b[39m] \u001b[38;5;241m=\u001b[39m customers[\u001b[38;5;124m\"\u001b[39m\u001b[38;5;124mfashion_news_frequency\u001b[39m\u001b[38;5;124m\"\u001b[39m]\u001b[38;5;241m.\u001b[39mreplace([\u001b[38;5;124m\"\u001b[39m\u001b[38;5;124mRegularly\u001b[39m\u001b[38;5;124m\"\u001b[39m], \u001b[38;5;124m\"\u001b[39m\u001b[38;5;124mREGULARLY\u001b[39m\u001b[38;5;124m\"\u001b[39m)\n",
      "\u001b[0;31mNameError\u001b[0m: name 'customers' is not defined"
     ]
    }
   ],
   "source": [
    "customers[\"fashion_news_frequency\"] = customers[\"fashion_news_frequency\"].fillna('NONE')\n",
    "customers[\"fashion_news_frequency\"] = customers[\"fashion_news_frequency\"].replace([\"None\"], \"NONE\")\n",
    "customers[\"fashion_news_frequency\"] = customers[\"fashion_news_frequency\"].replace([\"Regularly\"], \"REGULARLY\")"
   ]
  },
  {
   "cell_type": "code",
   "execution_count": 23,
   "id": "03c03dda-074b-494b-9eca-9077c2049b52",
   "metadata": {
    "collapsed": false,
    "id": "UZRSUFyWEs0K"
   },
   "outputs": [
    {
     "ename": "NameError",
     "evalue": "name 'customers' is not defined",
     "output_type": "error",
     "traceback": [
      "\u001b[0;31m---------------------------------------------------------------------------\u001b[0m",
      "\u001b[0;31mNameError\u001b[0m                                 Traceback (most recent call last)",
      "Cell \u001b[0;32mIn[23], line 1\u001b[0m\n\u001b[0;32m----> 1\u001b[0m customers[\u001b[38;5;124m\"\u001b[39m\u001b[38;5;124mFN\u001b[39m\u001b[38;5;124m\"\u001b[39m] \u001b[38;5;241m=\u001b[39m customers[\u001b[38;5;124m\"\u001b[39m\u001b[38;5;124mFN\u001b[39m\u001b[38;5;124m\"\u001b[39m]\u001b[38;5;241m.\u001b[39mfillna(\u001b[38;5;241m0\u001b[39m)\n\u001b[1;32m      2\u001b[0m customers[\u001b[38;5;124m\"\u001b[39m\u001b[38;5;124mFN\u001b[39m\u001b[38;5;124m\"\u001b[39m] \u001b[38;5;241m=\u001b[39m customers[\u001b[38;5;124m\"\u001b[39m\u001b[38;5;124mFN\u001b[39m\u001b[38;5;124m\"\u001b[39m]\u001b[38;5;241m.\u001b[39mastype(\u001b[38;5;28mint\u001b[39m)\n",
      "\u001b[0;31mNameError\u001b[0m: name 'customers' is not defined"
     ]
    }
   ],
   "source": [
    "customers[\"FN\"] = customers[\"FN\"].fillna(0)\n",
    "customers[\"FN\"] = customers[\"FN\"].astype(int)"
   ]
  },
  {
   "cell_type": "code",
   "execution_count": 24,
   "id": "1273590f-dde4-4e35-a0e3-2a8e481723f3",
   "metadata": {
    "collapsed": false,
    "id": "M_j_oGlEEzY4"
   },
   "outputs": [
    {
     "ename": "NameError",
     "evalue": "name 'customers' is not defined",
     "output_type": "error",
     "traceback": [
      "\u001b[0;31m---------------------------------------------------------------------------\u001b[0m",
      "\u001b[0;31mNameError\u001b[0m                                 Traceback (most recent call last)",
      "Cell \u001b[0;32mIn[24], line 1\u001b[0m\n\u001b[0;32m----> 1\u001b[0m customers[\u001b[38;5;124m\"\u001b[39m\u001b[38;5;124mActive\u001b[39m\u001b[38;5;124m\"\u001b[39m] \u001b[38;5;241m=\u001b[39m customers[\u001b[38;5;124m\"\u001b[39m\u001b[38;5;124mActive\u001b[39m\u001b[38;5;124m\"\u001b[39m]\u001b[38;5;241m.\u001b[39mfillna(\u001b[38;5;241m0\u001b[39m)\n\u001b[1;32m      2\u001b[0m customers[\u001b[38;5;124m\"\u001b[39m\u001b[38;5;124mActive\u001b[39m\u001b[38;5;124m\"\u001b[39m] \u001b[38;5;241m=\u001b[39m customers[\u001b[38;5;124m\"\u001b[39m\u001b[38;5;124mActive\u001b[39m\u001b[38;5;124m\"\u001b[39m]\u001b[38;5;241m.\u001b[39mastype(\u001b[38;5;28mint\u001b[39m)\n",
      "\u001b[0;31mNameError\u001b[0m: name 'customers' is not defined"
     ]
    }
   ],
   "source": [
    "customers[\"Active\"] = customers[\"Active\"].fillna(0)\n",
    "customers[\"Active\"] = customers[\"Active\"].astype(int)"
   ]
  },
  {
   "cell_type": "code",
   "execution_count": 25,
   "id": "30e6c850-855f-4023-8fbf-73faed608dbd",
   "metadata": {
    "collapsed": false,
    "id": "4QXpXcOpFC7z"
   },
   "outputs": [
    {
     "ename": "NameError",
     "evalue": "name 'customers' is not defined",
     "output_type": "error",
     "traceback": [
      "\u001b[0;31m---------------------------------------------------------------------------\u001b[0m",
      "\u001b[0;31mNameError\u001b[0m                                 Traceback (most recent call last)",
      "Cell \u001b[0;32mIn[25], line 1\u001b[0m\n\u001b[0;32m----> 1\u001b[0m customers[\u001b[38;5;124m\"\u001b[39m\u001b[38;5;124mage\u001b[39m\u001b[38;5;124m\"\u001b[39m] \u001b[38;5;241m=\u001b[39m customers[\u001b[38;5;124m\"\u001b[39m\u001b[38;5;124mage\u001b[39m\u001b[38;5;124m\"\u001b[39m]\u001b[38;5;241m.\u001b[39mfillna(customers[\u001b[38;5;124m\"\u001b[39m\u001b[38;5;124mage\u001b[39m\u001b[38;5;124m\"\u001b[39m]\u001b[38;5;241m.\u001b[39mmedian())\n",
      "\u001b[0;31mNameError\u001b[0m: name 'customers' is not defined"
     ]
    }
   ],
   "source": [
    "customers[\"age\"] = customers[\"age\"].fillna(customers[\"age\"].median())"
   ]
  },
  {
   "cell_type": "code",
   "execution_count": 26,
   "id": "de133ed0-3414-4d36-af73-57ab8de52ad6",
   "metadata": {
    "colab": {
     "base_uri": "https://localhost:8080/",
     "height": 206
    },
    "collapsed": false,
    "id": "8q2RIpbtGNs3",
    "outputId": "23592b73-320d-4b09-801a-f28a6a5ecf56"
   },
   "outputs": [
    {
     "ename": "NameError",
     "evalue": "name 'customers' is not defined",
     "output_type": "error",
     "traceback": [
      "\u001b[0;31m---------------------------------------------------------------------------\u001b[0m",
      "\u001b[0;31mNameError\u001b[0m                                 Traceback (most recent call last)",
      "Cell \u001b[0;32mIn[26], line 1\u001b[0m\n\u001b[0;32m----> 1\u001b[0m customers \u001b[38;5;241m=\u001b[39m pd\u001b[38;5;241m.\u001b[39mget_dummies(customers, columns\u001b[38;5;241m=\u001b[39m[\u001b[38;5;124m\"\u001b[39m\u001b[38;5;124mclub_member_status\u001b[39m\u001b[38;5;124m\"\u001b[39m])\n\u001b[1;32m      2\u001b[0m customers\u001b[38;5;241m.\u001b[39mdrop([\u001b[38;5;124m\"\u001b[39m\u001b[38;5;124mpostal_code\u001b[39m\u001b[38;5;124m\"\u001b[39m], axis\u001b[38;5;241m=\u001b[39m\u001b[38;5;241m1\u001b[39m, inplace\u001b[38;5;241m=\u001b[39m\u001b[38;5;28;01mTrue\u001b[39;00m)\n\u001b[1;32m      3\u001b[0m customers\u001b[38;5;241m.\u001b[39mhead()\n",
      "\u001b[0;31mNameError\u001b[0m: name 'customers' is not defined"
     ]
    }
   ],
   "source": [
    "customers = pd.get_dummies(customers, columns=[\"club_member_status\"])\n",
    "customers.drop([\"postal_code\"], axis=1, inplace=True)\n",
    "customers.head()"
   ]
  },
  {
   "cell_type": "code",
   "execution_count": 27,
   "id": "e7bcbc13-2d00-4a4a-b115-3f78e45e5e6b",
   "metadata": {
    "colab": {
     "base_uri": "https://localhost:8080/"
    },
    "collapsed": false,
    "id": "bGG_JlVgIFp_",
    "outputId": "792caec1-9e4d-49a3-a715-821464cbe738"
   },
   "outputs": [
    {
     "ename": "NameError",
     "evalue": "name 'customers' is not defined",
     "output_type": "error",
     "traceback": [
      "\u001b[0;31m---------------------------------------------------------------------------\u001b[0m",
      "\u001b[0;31mNameError\u001b[0m                                 Traceback (most recent call last)",
      "Cell \u001b[0;32mIn[27], line 1\u001b[0m\n\u001b[0;32m----> 1\u001b[0m customers[\u001b[38;5;124m'\u001b[39m\u001b[38;5;124mfashion_news_frequency\u001b[39m\u001b[38;5;124m'\u001b[39m] \u001b[38;5;241m=\u001b[39m customers[\u001b[38;5;124m'\u001b[39m\u001b[38;5;124mfashion_news_frequency\u001b[39m\u001b[38;5;124m'\u001b[39m]\u001b[38;5;241m.\u001b[39mreplace(\u001b[38;5;124m'\u001b[39m\u001b[38;5;124mNONE\u001b[39m\u001b[38;5;124m'\u001b[39m, \u001b[38;5;241m0\u001b[39m)\n\u001b[1;32m      2\u001b[0m customers[\u001b[38;5;124m'\u001b[39m\u001b[38;5;124mfashion_news_frequency\u001b[39m\u001b[38;5;124m'\u001b[39m] \u001b[38;5;241m=\u001b[39m customers[\u001b[38;5;124m'\u001b[39m\u001b[38;5;124mfashion_news_frequency\u001b[39m\u001b[38;5;124m'\u001b[39m]\u001b[38;5;241m.\u001b[39mreplace(\u001b[38;5;124m'\u001b[39m\u001b[38;5;124mMonthly\u001b[39m\u001b[38;5;124m'\u001b[39m, \u001b[38;5;241m1\u001b[39m)\n\u001b[1;32m      3\u001b[0m customers[\u001b[38;5;124m'\u001b[39m\u001b[38;5;124mfashion_news_frequency\u001b[39m\u001b[38;5;124m'\u001b[39m] \u001b[38;5;241m=\u001b[39m customers[\u001b[38;5;124m'\u001b[39m\u001b[38;5;124mfashion_news_frequency\u001b[39m\u001b[38;5;124m'\u001b[39m]\u001b[38;5;241m.\u001b[39mreplace(\u001b[38;5;124m'\u001b[39m\u001b[38;5;124mREGULARLY\u001b[39m\u001b[38;5;124m'\u001b[39m, \u001b[38;5;241m2\u001b[39m)\n",
      "\u001b[0;31mNameError\u001b[0m: name 'customers' is not defined"
     ]
    }
   ],
   "source": [
    "customers['fashion_news_frequency'] = customers['fashion_news_frequency'].replace('NONE', 0)\n",
    "customers['fashion_news_frequency'] = customers['fashion_news_frequency'].replace('Monthly', 1)\n",
    "customers['fashion_news_frequency'] = customers['fashion_news_frequency'].replace('REGULARLY', 2)"
   ]
  },
  {
   "cell_type": "code",
   "execution_count": 28,
   "id": "40fd57f9-59b0-4a19-a247-403bf0712d9e",
   "metadata": {
    "colab": {
     "base_uri": "https://localhost:8080/"
    },
    "collapsed": false,
    "id": "30CA5Q6FzdU-",
    "outputId": "2533d964-abd4-4071-89d0-ea6c5c9893f6"
   },
   "outputs": [
    {
     "ename": "NameError",
     "evalue": "name 'articles' is not defined",
     "output_type": "error",
     "traceback": [
      "\u001b[0;31m---------------------------------------------------------------------------\u001b[0m",
      "\u001b[0;31mNameError\u001b[0m                                 Traceback (most recent call last)",
      "Cell \u001b[0;32mIn[28], line 4\u001b[0m\n\u001b[1;32m      1\u001b[0m ohe_columns \u001b[38;5;241m=\u001b[39m []\n\u001b[1;32m      2\u001b[0m total \u001b[38;5;241m=\u001b[39m \u001b[38;5;241m0\u001b[39m\n\u001b[0;32m----> 4\u001b[0m \u001b[38;5;28;01mfor\u001b[39;00m col \u001b[38;5;129;01min\u001b[39;00m articles\u001b[38;5;241m.\u001b[39mcolumns:\n\u001b[1;32m      5\u001b[0m     \u001b[38;5;28;01mif\u001b[39;00m articles[col]\u001b[38;5;241m.\u001b[39mdtype \u001b[38;5;241m==\u001b[39m \u001b[38;5;124m\"\u001b[39m\u001b[38;5;124mint64\u001b[39m\u001b[38;5;124m\"\u001b[39m \u001b[38;5;129;01mand\u001b[39;00m \u001b[38;5;28mlen\u001b[39m(articles[col]\u001b[38;5;241m.\u001b[39munique()) \u001b[38;5;241m<\u001b[39m\u001b[38;5;241m=\u001b[39m \u001b[38;5;241m500\u001b[39m:\n\u001b[1;32m      6\u001b[0m         ohe_columns\u001b[38;5;241m.\u001b[39mappend(col)\n",
      "\u001b[0;31mNameError\u001b[0m: name 'articles' is not defined"
     ]
    }
   ],
   "source": [
    "ohe_columns = []\n",
    "total = 0\n",
    "\n",
    "for col in articles.columns:\n",
    "    if articles[col].dtype == \"int64\" and len(articles[col].unique()) <= 500:\n",
    "        ohe_columns.append(col)\n",
    "        total += len(articles[col].unique())\n",
    "\n",
    "    print(col, articles[col].dtype, len(articles[col].unique()))\n",
    "\n",
    "\n",
    "print(\"Columns to use:\", ohe_columns)"
   ]
  },
  {
   "cell_type": "code",
   "execution_count": 29,
   "id": "88f25813-bf3c-432e-875d-07d501e13da5",
   "metadata": {
    "colab": {
     "base_uri": "https://localhost:8080/"
    },
    "collapsed": false,
    "id": "CZHQtuoiyEXn",
    "outputId": "13bb1716-fc80-417b-b8f0-228dbe41644a"
   },
   "outputs": [
    {
     "ename": "NameError",
     "evalue": "name 'articles' is not defined",
     "output_type": "error",
     "traceback": [
      "\u001b[0;31m---------------------------------------------------------------------------\u001b[0m",
      "\u001b[0;31mNameError\u001b[0m                                 Traceback (most recent call last)",
      "Cell \u001b[0;32mIn[29], line 1\u001b[0m\n\u001b[0;32m----> 1\u001b[0m V \u001b[38;5;241m=\u001b[39m pd\u001b[38;5;241m.\u001b[39mget_dummies(articles[ohe_columns], columns\u001b[38;5;241m=\u001b[39mohe_columns)\u001b[38;5;241m.\u001b[39mvalues\n\u001b[1;32m      2\u001b[0m V\u001b[38;5;241m.\u001b[39mshape\n",
      "\u001b[0;31mNameError\u001b[0m: name 'articles' is not defined"
     ]
    }
   ],
   "source": [
    "V = pd.get_dummies(articles[ohe_columns], columns=ohe_columns).values\n",
    "V.shape"
   ]
  },
  {
   "cell_type": "code",
   "execution_count": 30,
   "id": "9cfb8fcd-2445-44d8-b68b-6639d3d743b5",
   "metadata": {
    "collapsed": false,
    "id": "L4nox3i3TXL5"
   },
   "outputs": [
    {
     "ename": "NameError",
     "evalue": "name 'articles' is not defined",
     "output_type": "error",
     "traceback": [
      "\u001b[0;31m---------------------------------------------------------------------------\u001b[0m",
      "\u001b[0;31mNameError\u001b[0m                                 Traceback (most recent call last)",
      "Cell \u001b[0;32mIn[30], line 1\u001b[0m\n\u001b[0;32m----> 1\u001b[0m articles\u001b[38;5;241m.\u001b[39mdrop(\u001b[38;5;124m'\u001b[39m\u001b[38;5;124mprod_name\u001b[39m\u001b[38;5;124m'\u001b[39m, axis\u001b[38;5;241m=\u001b[39m\u001b[38;5;241m1\u001b[39m, inplace\u001b[38;5;241m=\u001b[39m\u001b[38;5;28;01mTrue\u001b[39;00m)\n",
      "\u001b[0;31mNameError\u001b[0m: name 'articles' is not defined"
     ]
    }
   ],
   "source": [
    "articles.drop('prod_name', axis=1, inplace=True)"
   ]
  },
  {
   "cell_type": "code",
   "execution_count": 31,
   "id": "2dbf7f29-e6f0-4bd1-95fc-97d4d01ba405",
   "metadata": {
    "collapsed": false,
    "id": "XARAAnxdTl8G"
   },
   "outputs": [
    {
     "ename": "NameError",
     "evalue": "name 'articles' is not defined",
     "output_type": "error",
     "traceback": [
      "\u001b[0;31m---------------------------------------------------------------------------\u001b[0m",
      "\u001b[0;31mNameError\u001b[0m                                 Traceback (most recent call last)",
      "Cell \u001b[0;32mIn[31], line 1\u001b[0m\n\u001b[0;32m----> 1\u001b[0m articles\u001b[38;5;241m.\u001b[39mdrop(\u001b[38;5;124m'\u001b[39m\u001b[38;5;124mproduct_type_name\u001b[39m\u001b[38;5;124m'\u001b[39m, axis\u001b[38;5;241m=\u001b[39m\u001b[38;5;241m1\u001b[39m, inplace\u001b[38;5;241m=\u001b[39m\u001b[38;5;28;01mTrue\u001b[39;00m)\n\u001b[1;32m      2\u001b[0m articles\u001b[38;5;241m.\u001b[39mdrop(\u001b[38;5;124m'\u001b[39m\u001b[38;5;124mgraphical_appearance_name\u001b[39m\u001b[38;5;124m'\u001b[39m, axis\u001b[38;5;241m=\u001b[39m\u001b[38;5;241m1\u001b[39m, inplace\u001b[38;5;241m=\u001b[39m\u001b[38;5;28;01mTrue\u001b[39;00m)\n\u001b[1;32m      3\u001b[0m articles\u001b[38;5;241m.\u001b[39mdrop(\u001b[38;5;124m'\u001b[39m\u001b[38;5;124mcolour_group_name\u001b[39m\u001b[38;5;124m'\u001b[39m, axis\u001b[38;5;241m=\u001b[39m\u001b[38;5;241m1\u001b[39m, inplace\u001b[38;5;241m=\u001b[39m\u001b[38;5;28;01mTrue\u001b[39;00m)\n",
      "\u001b[0;31mNameError\u001b[0m: name 'articles' is not defined"
     ]
    }
   ],
   "source": [
    "articles.drop('product_type_name', axis=1, inplace=True)\n",
    "articles.drop('graphical_appearance_name', axis=1, inplace=True)\n",
    "articles.drop('colour_group_name', axis=1, inplace=True)\n",
    "articles.drop('perceived_colour_value_name', axis=1, inplace=True)\n",
    "articles.drop('perceived_colour_master_name', axis=1, inplace=True)\n",
    "articles.drop('department_name', axis=1, inplace=True)\n",
    "articles.drop('index_name', axis=1, inplace=True)\n",
    "articles.drop('index_group_name', axis=1, inplace=True)\n",
    "articles.drop('section_name', axis=1, inplace=True)\n",
    "articles.drop('garment_group_name', axis=1, inplace=True)"
   ]
  },
  {
   "cell_type": "markdown",
   "id": "b47394dc-0db3-4944-ae6e-209e70f0c3a9",
   "metadata": {
    "collapsed": false,
    "id": "4MmdjFc5Pp2U"
   },
   "source": [
    "Doing one hot encoding on articles is giving 622 dimensions which is unrealastic so, let's stick to ordinal encoding."
   ]
  },
  {
   "cell_type": "code",
   "execution_count": 32,
   "id": "b864ce55-d108-4775-9e13-ec97729f24cf",
   "metadata": {
    "colab": {
     "base_uri": "https://localhost:8080/",
     "height": 487
    },
    "collapsed": false,
    "id": "5M6G5Yx8P9kt",
    "outputId": "177efe53-f5ed-486b-b677-f81f9ce55e41"
   },
   "outputs": [
    {
     "ename": "NameError",
     "evalue": "name 'articles' is not defined",
     "output_type": "error",
     "traceback": [
      "\u001b[0;31m---------------------------------------------------------------------------\u001b[0m",
      "\u001b[0;31mNameError\u001b[0m                                 Traceback (most recent call last)",
      "Cell \u001b[0;32mIn[32], line 8\u001b[0m\n\u001b[1;32m      2\u001b[0m encoder \u001b[38;5;241m=\u001b[39m OrdinalEncoder()\n\u001b[1;32m      3\u001b[0m ohe_columns \u001b[38;5;241m=\u001b[39m [\u001b[38;5;124m'\u001b[39m\u001b[38;5;124mproduct_code\u001b[39m\u001b[38;5;124m'\u001b[39m, \u001b[38;5;124m'\u001b[39m\u001b[38;5;124mproduct_type_no\u001b[39m\u001b[38;5;124m'\u001b[39m, \u001b[38;5;124m'\u001b[39m\u001b[38;5;124mproduct_group_name\u001b[39m\u001b[38;5;124m'\u001b[39m,\n\u001b[1;32m      4\u001b[0m        \u001b[38;5;124m'\u001b[39m\u001b[38;5;124mgraphical_appearance_no\u001b[39m\u001b[38;5;124m'\u001b[39m, \u001b[38;5;124m'\u001b[39m\u001b[38;5;124mcolour_group_code\u001b[39m\u001b[38;5;124m'\u001b[39m,\n\u001b[1;32m      5\u001b[0m        \u001b[38;5;124m'\u001b[39m\u001b[38;5;124mperceived_colour_value_id\u001b[39m\u001b[38;5;124m'\u001b[39m, \u001b[38;5;124m'\u001b[39m\u001b[38;5;124mperceived_colour_master_id\u001b[39m\u001b[38;5;124m'\u001b[39m,\n\u001b[1;32m      6\u001b[0m        \u001b[38;5;124m'\u001b[39m\u001b[38;5;124mdepartment_no\u001b[39m\u001b[38;5;124m'\u001b[39m, \u001b[38;5;124m'\u001b[39m\u001b[38;5;124mindex_code\u001b[39m\u001b[38;5;124m'\u001b[39m, \u001b[38;5;124m'\u001b[39m\u001b[38;5;124mindex_group_no\u001b[39m\u001b[38;5;124m'\u001b[39m, \u001b[38;5;124m'\u001b[39m\u001b[38;5;124msection_no\u001b[39m\u001b[38;5;124m'\u001b[39m,\n\u001b[1;32m      7\u001b[0m        \u001b[38;5;124m'\u001b[39m\u001b[38;5;124mgarment_group_no\u001b[39m\u001b[38;5;124m'\u001b[39m]\n\u001b[0;32m----> 8\u001b[0m articles[ohe_columns] \u001b[38;5;241m=\u001b[39m encoder\u001b[38;5;241m.\u001b[39mfit_transform(articles[ohe_columns])\n\u001b[1;32m     10\u001b[0m articles\u001b[38;5;241m.\u001b[39mhead()\n",
      "\u001b[0;31mNameError\u001b[0m: name 'articles' is not defined"
     ]
    }
   ],
   "source": [
    "from sklearn.preprocessing import OrdinalEncoder\n",
    "encoder = OrdinalEncoder()\n",
    "ohe_columns = ['product_code', 'product_type_no', 'product_group_name',\n",
    "       'graphical_appearance_no', 'colour_group_code',\n",
    "       'perceived_colour_value_id', 'perceived_colour_master_id',\n",
    "       'department_no', 'index_code', 'index_group_no', 'section_no',\n",
    "       'garment_group_no']\n",
    "articles[ohe_columns] = encoder.fit_transform(articles[ohe_columns])\n",
    "\n",
    "articles.head()"
   ]
  },
  {
   "cell_type": "code",
   "execution_count": 33,
   "id": "8f8a0346-2992-4714-a18f-5e5bd5c20325",
   "metadata": {
    "colab": {
     "base_uri": "https://localhost:8080/"
    },
    "collapsed": false,
    "id": "ir-AC4111gN6",
    "outputId": "fba686b0-4bea-4e13-9e52-7892c6242223"
   },
   "outputs": [
    {
     "name": "stderr",
     "output_type": "stream",
     "text": [
      "[nltk_data] Downloading package stopwords to\n",
      "[nltk_data]     /Users/kabirkang/nltk_data...\n",
      "[nltk_data]   Unzipping corpora/stopwords.zip.\n"
     ]
    },
    {
     "data": {
      "text/plain": [
       "True"
      ]
     },
     "execution_count": 33,
     "metadata": {},
     "output_type": "execute_result"
    }
   ],
   "source": [
    "import nltk\n",
    "nltk.download('stopwords')"
   ]
  },
  {
   "cell_type": "code",
   "execution_count": 34,
   "id": "4dd1f1f6-e2e5-438e-bd6c-f0f0851e78e0",
   "metadata": {
    "collapsed": false,
    "id": "U_tj-4fN124P"
   },
   "outputs": [],
   "source": [
    "from nltk.corpus import stopwords\n",
    "stopwords=set(stopwords.words('english'))\n",
    "\n",
    "def isfloat(num):\n",
    "    try:\n",
    "        float(num)\n",
    "        return True\n",
    "    except ValueError:\n",
    "        return False\n",
    "\n",
    "def remove_stopwords(data):\n",
    "    output_array=[]\n",
    "    for sentence in data:\n",
    "        temp_list=[]\n",
    "        for word in sentence.split():\n",
    "            if word.lower() not in stopwords:\n",
    "                temp_list.append(word)\n",
    "        output_array.append(' '.join(temp_list))\n",
    "    return output_array"
   ]
  },
  {
   "cell_type": "code",
   "execution_count": 35,
   "id": "5e02500e-1962-4a43-a1fd-7412e93c28ae",
   "metadata": {
    "colab": {
     "base_uri": "https://localhost:8080/"
    },
    "collapsed": false,
    "id": "Nb8vRYcs2B-w",
    "outputId": "c01ef839-d8d5-4e05-ab52-e1ff4cfc26b6"
   },
   "outputs": [
    {
     "name": "stderr",
     "output_type": "stream",
     "text": [
      "[nltk_data] Downloading package wordnet to\n",
      "[nltk_data]     /Users/kabirkang/nltk_data...\n"
     ]
    },
    {
     "ename": "NameError",
     "evalue": "name 'articles' is not defined",
     "output_type": "error",
     "traceback": [
      "\u001b[0;31m---------------------------------------------------------------------------\u001b[0m",
      "\u001b[0;31mNameError\u001b[0m                                 Traceback (most recent call last)",
      "Cell \u001b[0;32mIn[35], line 7\u001b[0m\n\u001b[1;32m      4\u001b[0m stopwords\u001b[38;5;241m=\u001b[39m\u001b[38;5;28mset\u001b[39m(stopwords\u001b[38;5;241m.\u001b[39mwords(\u001b[38;5;124m'\u001b[39m\u001b[38;5;124menglish\u001b[39m\u001b[38;5;124m'\u001b[39m))\n\u001b[1;32m      5\u001b[0m nltk\u001b[38;5;241m.\u001b[39mdownload(\u001b[38;5;124m'\u001b[39m\u001b[38;5;124mwordnet\u001b[39m\u001b[38;5;124m'\u001b[39m)\n\u001b[0;32m----> 7\u001b[0m articles[\u001b[38;5;124m\"\u001b[39m\u001b[38;5;124mdetail_desc\u001b[39m\u001b[38;5;124m\"\u001b[39m] \u001b[38;5;241m=\u001b[39m articles[\u001b[38;5;124m\"\u001b[39m\u001b[38;5;124mdetail_desc\u001b[39m\u001b[38;5;124m\"\u001b[39m]\u001b[38;5;241m.\u001b[39mfillna(\u001b[38;5;124m\"\u001b[39m\u001b[38;5;124mnodesc\u001b[39m\u001b[38;5;124m\"\u001b[39m)\n\u001b[1;32m      9\u001b[0m desc \u001b[38;5;241m=\u001b[39m articles\u001b[38;5;241m.\u001b[39mdetail_desc\u001b[38;5;241m.\u001b[39mstr\u001b[38;5;241m.\u001b[39mlower()\n\u001b[1;32m     10\u001b[0m desc_clean \u001b[38;5;241m=\u001b[39m remove_stopwords(desc)\n",
      "\u001b[0;31mNameError\u001b[0m: name 'articles' is not defined"
     ]
    }
   ],
   "source": [
    "from sklearn.feature_extraction.text import TfidfVectorizer\n",
    "from nltk.corpus import stopwords\n",
    "from nltk.stem import WordNetLemmatizer\n",
    "stopwords=set(stopwords.words('english'))\n",
    "nltk.download('wordnet')\n",
    "\n",
    "articles[\"detail_desc\"] = articles[\"detail_desc\"].fillna(\"nodesc\")\n",
    "\n",
    "desc = articles.detail_desc.str.lower()\n",
    "desc_clean = remove_stopwords(desc)"
   ]
  },
  {
   "cell_type": "code",
   "execution_count": 36,
   "id": "dc9f2c2a-1a61-4f5b-aefd-df037933d58b",
   "metadata": {
    "colab": {
     "base_uri": "https://localhost:8080/"
    },
    "collapsed": false,
    "id": "piV0uXps04dj",
    "outputId": "0d1cb092-91fd-4d87-8ea4-eab78a39f169"
   },
   "outputs": [
    {
     "name": "stderr",
     "output_type": "stream",
     "text": [
      "[nltk_data] Downloading package punkt to /Users/kabirkang/nltk_data...\n"
     ]
    },
    {
     "name": "stderr",
     "output_type": "stream",
     "text": [
      "[nltk_data]   Unzipping tokenizers/punkt.zip.\n"
     ]
    },
    {
     "ename": "NameError",
     "evalue": "name 'desc_clean' is not defined",
     "output_type": "error",
     "traceback": [
      "\u001b[0;31m---------------------------------------------------------------------------\u001b[0m",
      "\u001b[0;31mNameError\u001b[0m                                 Traceback (most recent call last)",
      "Cell \u001b[0;32mIn[36], line 6\u001b[0m\n\u001b[1;32m      4\u001b[0m \u001b[38;5;66;03m# Lemmatize words in each sentence\u001b[39;00m\n\u001b[1;32m      5\u001b[0m lemmatized_sentences \u001b[38;5;241m=\u001b[39m []\n\u001b[0;32m----> 6\u001b[0m \u001b[38;5;28;01mfor\u001b[39;00m sentence \u001b[38;5;129;01min\u001b[39;00m desc_clean:\n\u001b[1;32m      7\u001b[0m     \u001b[38;5;66;03m# Tokenize the sentence\u001b[39;00m\n\u001b[1;32m      8\u001b[0m     words \u001b[38;5;241m=\u001b[39m nltk\u001b[38;5;241m.\u001b[39mword_tokenize(sentence)\n\u001b[1;32m      9\u001b[0m     \u001b[38;5;66;03m# Lemmatize each word\u001b[39;00m\n",
      "\u001b[0;31mNameError\u001b[0m: name 'desc_clean' is not defined"
     ]
    }
   ],
   "source": [
    "from nltk.corpus import wordnet\n",
    "nltk.download('punkt')\n",
    "lemmatizer = WordNetLemmatizer()\n",
    "# Lemmatize words in each sentence\n",
    "lemmatized_sentences = []\n",
    "for sentence in desc_clean:\n",
    "    # Tokenize the sentence\n",
    "    words = nltk.word_tokenize(sentence)\n",
    "    # Lemmatize each word\n",
    "    lemmatized_words = [lemmatizer.lemmatize(word, pos=wordnet.VERB) for word in words]\n",
    "    # Reassemble the sentence\n",
    "    lemmatized_sentence = ' '.join(lemmatized_words)\n",
    "    lemmatized_sentences.append(lemmatized_sentence)\n",
    "\n",
    "desc_clean = lemmatized_sentences"
   ]
  },
  {
   "cell_type": "code",
   "execution_count": 37,
   "id": "2810107a-95f8-4627-8cca-26f4ea204e6d",
   "metadata": {
    "collapsed": false,
    "id": "IRHGqwUT5EWl"
   },
   "outputs": [
    {
     "ename": "NameError",
     "evalue": "name 'desc_clean' is not defined",
     "output_type": "error",
     "traceback": [
      "\u001b[0;31m---------------------------------------------------------------------------\u001b[0m",
      "\u001b[0;31mNameError\u001b[0m                                 Traceback (most recent call last)",
      "Cell \u001b[0;32mIn[37], line 7\u001b[0m\n\u001b[1;32m      1\u001b[0m tfidf \u001b[38;5;241m=\u001b[39m TfidfVectorizer(\n\u001b[1;32m      2\u001b[0m         max_features\u001b[38;5;241m=\u001b[39m\u001b[38;5;241m50\u001b[39m,  \u001b[38;5;66;03m# Limit features to top 50 terms\u001b[39;00m\n\u001b[1;32m      3\u001b[0m         min_df\u001b[38;5;241m=\u001b[39m\u001b[38;5;241m2\u001b[39m,          \u001b[38;5;66;03m# Ignore terms that appear in less than 2 documents\u001b[39;00m\n\u001b[1;32m      4\u001b[0m         max_df\u001b[38;5;241m=\u001b[39m\u001b[38;5;241m0.95\u001b[39m,       \u001b[38;5;66;03m# Ignore terms that appear in more than 95% of documents\u001b[39;00m\n\u001b[1;32m      5\u001b[0m         stop_words\u001b[38;5;241m=\u001b[39m\u001b[38;5;124m'\u001b[39m\u001b[38;5;124menglish\u001b[39m\u001b[38;5;124m'\u001b[39m\n\u001b[1;32m      6\u001b[0m     )\n\u001b[0;32m----> 7\u001b[0m X_train_tfidf \u001b[38;5;241m=\u001b[39m tfidf\u001b[38;5;241m.\u001b[39mfit_transform(desc_clean)\n",
      "\u001b[0;31mNameError\u001b[0m: name 'desc_clean' is not defined"
     ]
    }
   ],
   "source": [
    "tfidf = TfidfVectorizer(\n",
    "        max_features=50,  # Limit features to top 50 terms\n",
    "        min_df=2,          # Ignore terms that appear in less than 2 documents\n",
    "        max_df=0.95,       # Ignore terms that appear in more than 95% of documents\n",
    "        stop_words='english'\n",
    "    )\n",
    "X_train_tfidf = tfidf.fit_transform(desc_clean)"
   ]
  },
  {
   "cell_type": "code",
   "execution_count": 38,
   "id": "a7b1f50d-ab0c-4fa8-95c3-35bc263fcb79",
   "metadata": {
    "colab": {
     "base_uri": "https://localhost:8080/",
     "height": 470
    },
    "collapsed": false,
    "id": "jGGqCE52iQRS",
    "outputId": "c39ef55c-9e01-4f86-d5b9-279f0ee1e2aa"
   },
   "outputs": [
    {
     "ename": "ModuleNotFoundError",
     "evalue": "No module named 'wordcloud'",
     "output_type": "error",
     "traceback": [
      "\u001b[0;31m---------------------------------------------------------------------------\u001b[0m",
      "\u001b[0;31mModuleNotFoundError\u001b[0m                       Traceback (most recent call last)",
      "Cell \u001b[0;32mIn[38], line 2\u001b[0m\n\u001b[1;32m      1\u001b[0m \u001b[38;5;28;01mimport\u001b[39;00m \u001b[38;5;21;01mmatplotlib\u001b[39;00m\u001b[38;5;21;01m.\u001b[39;00m\u001b[38;5;21;01mpyplot\u001b[39;00m \u001b[38;5;28;01mas\u001b[39;00m \u001b[38;5;21;01mplt\u001b[39;00m\n\u001b[0;32m----> 2\u001b[0m \u001b[38;5;28;01mfrom\u001b[39;00m \u001b[38;5;21;01mwordcloud\u001b[39;00m \u001b[38;5;28;01mimport\u001b[39;00m WordCloud\n\u001b[1;32m      3\u001b[0m \u001b[38;5;28;01mimport\u001b[39;00m \u001b[38;5;21;01mio\u001b[39;00m\n\u001b[1;32m      4\u001b[0m \u001b[38;5;28;01mimport\u001b[39;00m \u001b[38;5;21;01mbase64\u001b[39;00m\n",
      "\u001b[0;31mModuleNotFoundError\u001b[0m: No module named 'wordcloud'"
     ]
    }
   ],
   "source": [
    "import matplotlib.pyplot as plt\n",
    "from wordcloud import WordCloud\n",
    "import io\n",
    "import base64\n",
    "text_column='description'\n",
    "max_words=100\n",
    "width=800\n",
    "height=400\n",
    "background_color='white'\n",
    "feature_names = tfidf.get_feature_names_out()\n",
    "print(feature_names)\n",
    "avg_tfidf_scores = np.array(X_train_tfidf.mean(axis=0)).flatten()\n",
    "word_freq = dict(zip(feature_names, avg_tfidf_scores))\n",
    "wordcloud = WordCloud(width=width,height=height,background_color=background_color,max_words=max_words,relative_scaling=0.5,normalize_plurals=False).generate_from_frequencies(word_freq)\n",
    "plt.figure(figsize=(width/100, height/100), dpi=100)\n",
    "plt.imshow(wordcloud, interpolation='bilinear')\n",
    "plt.axis('off')\n",
    "buffer = io.BytesIO()\n",
    "plt.savefig(buffer, format='png', bbox_inches='tight', pad_inches=0)\n",
    "buffer.seek(0)\n",
    "image_base64 = base64.b64encode(buffer.getvalue()).decode()\n",
    "plt.show()\n",
    "plt.close()"
   ]
  },
  {
   "cell_type": "code",
   "execution_count": 39,
   "id": "00a7bf62-247d-424e-9778-50c4cb17ab54",
   "metadata": {
    "colab": {
     "base_uri": "https://localhost:8080/"
    },
    "collapsed": false,
    "id": "yv8_pWWPaayw",
    "outputId": "03fac449-40aa-43db-8974-38b67d05344a"
   },
   "outputs": [
    {
     "ename": "NameError",
     "evalue": "name 'articles' is not defined",
     "output_type": "error",
     "traceback": [
      "\u001b[0;31m---------------------------------------------------------------------------\u001b[0m",
      "\u001b[0;31mNameError\u001b[0m                                 Traceback (most recent call last)",
      "Cell \u001b[0;32mIn[39], line 1\u001b[0m\n\u001b[0;32m----> 1\u001b[0m articles\u001b[38;5;241m.\u001b[39mshape\n\u001b[1;32m      2\u001b[0m X_train_tfidf\u001b[38;5;241m.\u001b[39mshape\n",
      "\u001b[0;31mNameError\u001b[0m: name 'articles' is not defined"
     ]
    }
   ],
   "source": [
    "articles.shape\n",
    "X_train_tfidf.shape"
   ]
  },
  {
   "cell_type": "code",
   "execution_count": 40,
   "id": "208ebdab-e4d7-4fb5-a020-f3a4f5f7e392",
   "metadata": {
    "colab": {
     "base_uri": "https://localhost:8080/",
     "height": 236
    },
    "collapsed": false,
    "id": "dpClHbHoZ-KC",
    "outputId": "2f5c2205-0f5f-4c3b-efb7-4f72345df74e"
   },
   "outputs": [
    {
     "ename": "NameError",
     "evalue": "name 'X_train_tfidf' is not defined",
     "output_type": "error",
     "traceback": [
      "\u001b[0;31m---------------------------------------------------------------------------\u001b[0m",
      "\u001b[0;31mNameError\u001b[0m                                 Traceback (most recent call last)",
      "Cell \u001b[0;32mIn[40], line 1\u001b[0m\n\u001b[0;32m----> 1\u001b[0m tfidf_df \u001b[38;5;241m=\u001b[39m pd\u001b[38;5;241m.\u001b[39mDataFrame(X_train_tfidf\u001b[38;5;241m.\u001b[39mtoarray(), columns\u001b[38;5;241m=\u001b[39mtfidf\u001b[38;5;241m.\u001b[39mget_feature_names_out())\n\u001b[1;32m      2\u001b[0m tfidf_df\u001b[38;5;241m.\u001b[39mhead()\n",
      "\u001b[0;31mNameError\u001b[0m: name 'X_train_tfidf' is not defined"
     ]
    }
   ],
   "source": [
    "tfidf_df = pd.DataFrame(X_train_tfidf.toarray(), columns=tfidf.get_feature_names_out())\n",
    "tfidf_df.head()"
   ]
  },
  {
   "cell_type": "code",
   "execution_count": 41,
   "id": "256512b7-7c9f-44d7-80e1-4ec1262aa079",
   "metadata": {
    "colab": {
     "base_uri": "https://localhost:8080/",
     "height": 256
    },
    "collapsed": false,
    "id": "3l7pGyEmgsfD",
    "outputId": "b69b21e9-3059-4177-a530-8dcc6b4e6baf"
   },
   "outputs": [
    {
     "ename": "NameError",
     "evalue": "name 'articles' is not defined",
     "output_type": "error",
     "traceback": [
      "\u001b[0;31m---------------------------------------------------------------------------\u001b[0m",
      "\u001b[0;31mNameError\u001b[0m                                 Traceback (most recent call last)",
      "Cell \u001b[0;32mIn[41], line 1\u001b[0m\n\u001b[0;32m----> 1\u001b[0m articles \u001b[38;5;241m=\u001b[39m pd\u001b[38;5;241m.\u001b[39mconcat([articles, tfidf_df], axis\u001b[38;5;241m=\u001b[39m\u001b[38;5;241m1\u001b[39m)\n\u001b[1;32m      2\u001b[0m articles\u001b[38;5;241m.\u001b[39mdrop(\u001b[38;5;124m'\u001b[39m\u001b[38;5;124mdetail_desc\u001b[39m\u001b[38;5;124m'\u001b[39m, axis\u001b[38;5;241m=\u001b[39m\u001b[38;5;241m1\u001b[39m, inplace\u001b[38;5;241m=\u001b[39m\u001b[38;5;28;01mTrue\u001b[39;00m)\n\u001b[1;32m      3\u001b[0m articles\u001b[38;5;241m.\u001b[39mhead()\n",
      "\u001b[0;31mNameError\u001b[0m: name 'articles' is not defined"
     ]
    }
   ],
   "source": [
    "articles = pd.concat([articles, tfidf_df], axis=1)\n",
    "articles.drop('detail_desc', axis=1, inplace=True)\n",
    "articles.head()"
   ]
  },
  {
   "cell_type": "code",
   "execution_count": 42,
   "id": "528bfe8e-eecc-4733-b564-b784106bec47",
   "metadata": {
    "collapsed": false,
    "id": "jSvw6dW_HTdL"
   },
   "outputs": [
    {
     "ename": "NameError",
     "evalue": "name 'articles' is not defined",
     "output_type": "error",
     "traceback": [
      "\u001b[0;31m---------------------------------------------------------------------------\u001b[0m",
      "\u001b[0;31mNameError\u001b[0m                                 Traceback (most recent call last)",
      "Cell \u001b[0;32mIn[42], line 1\u001b[0m\n\u001b[0;32m----> 1\u001b[0m articles\u001b[38;5;241m.\u001b[39mto_csv(\u001b[38;5;124m'\u001b[39m\u001b[38;5;124m/content/drive/MyDrive/CS 7641 Machine Learning Group Project/articles_cleaned.csv\u001b[39m\u001b[38;5;124m'\u001b[39m, index\u001b[38;5;241m=\u001b[39m\u001b[38;5;241m0\u001b[39m)\n\u001b[1;32m      2\u001b[0m customers\u001b[38;5;241m.\u001b[39mto_csv(\u001b[38;5;124m'\u001b[39m\u001b[38;5;124m/content/drive/MyDrive/CS 7641 Machine Learning Group Project/customers_cleaned.csv\u001b[39m\u001b[38;5;124m'\u001b[39m, index\u001b[38;5;241m=\u001b[39m\u001b[38;5;241m0\u001b[39m)\n\u001b[1;32m      3\u001b[0m transactions\u001b[38;5;241m.\u001b[39mto_csv(\u001b[38;5;124m'\u001b[39m\u001b[38;5;124m/content/drive/MyDrive/CS 7641 Machine Learning Group Project/transactions_cleaned.csv\u001b[39m\u001b[38;5;124m'\u001b[39m)\n",
      "\u001b[0;31mNameError\u001b[0m: name 'articles' is not defined"
     ]
    }
   ],
   "source": [
    "articles.to_csv('/content/drive/MyDrive/CS 7641 Machine Learning Group Project/articles_cleaned.csv', index=0)\n",
    "customers.to_csv('/content/drive/MyDrive/CS 7641 Machine Learning Group Project/customers_cleaned.csv', index=0)\n",
    "transactions.to_csv('/content/drive/MyDrive/CS 7641 Machine Learning Group Project/transactions_cleaned.csv')"
   ]
  },
  {
   "cell_type": "code",
   "execution_count": 43,
   "id": "b290c544-7069-40c6-8aaf-89763608ffb8",
   "metadata": {
    "collapsed": false,
    "id": "xzUUBQPpI1Ol"
   },
   "outputs": [
    {
     "ename": "FileNotFoundError",
     "evalue": "[Errno 2] No such file or directory: '/content/drive/MyDrive/CS 7641 Machine Learning Group Project/articles_cleaned.csv'",
     "output_type": "error",
     "traceback": [
      "\u001b[0;31m---------------------------------------------------------------------------\u001b[0m",
      "\u001b[0;31mFileNotFoundError\u001b[0m                         Traceback (most recent call last)",
      "Cell \u001b[0;32mIn[43], line 1\u001b[0m\n\u001b[0;32m----> 1\u001b[0m articles \u001b[38;5;241m=\u001b[39m pd\u001b[38;5;241m.\u001b[39mread_csv(\u001b[38;5;124m\"\u001b[39m\u001b[38;5;124m/content/drive/MyDrive/CS 7641 Machine Learning Group Project/articles_cleaned.csv\u001b[39m\u001b[38;5;124m\"\u001b[39m)\n\u001b[1;32m      2\u001b[0m customers \u001b[38;5;241m=\u001b[39m pd\u001b[38;5;241m.\u001b[39mread_csv(\u001b[38;5;124m'\u001b[39m\u001b[38;5;124m/content/drive/MyDrive/CS 7641 Machine Learning Group Project/customers_cleaned.csv\u001b[39m\u001b[38;5;124m'\u001b[39m)\n\u001b[1;32m      3\u001b[0m transactions \u001b[38;5;241m=\u001b[39m pd\u001b[38;5;241m.\u001b[39mread_csv(\u001b[38;5;124m'\u001b[39m\u001b[38;5;124m/content/drive/MyDrive/CS 7641 Machine Learning Group Project/transactions_cleaned.csv\u001b[39m\u001b[38;5;124m'\u001b[39m)\n",
      "File \u001b[0;32m~/anaconda3/lib/python3.11/site-packages/pandas/io/parsers/readers.py:1026\u001b[0m, in \u001b[0;36mread_csv\u001b[0;34m(filepath_or_buffer, sep, delimiter, header, names, index_col, usecols, dtype, engine, converters, true_values, false_values, skipinitialspace, skiprows, skipfooter, nrows, na_values, keep_default_na, na_filter, verbose, skip_blank_lines, parse_dates, infer_datetime_format, keep_date_col, date_parser, date_format, dayfirst, cache_dates, iterator, chunksize, compression, thousands, decimal, lineterminator, quotechar, quoting, doublequote, escapechar, comment, encoding, encoding_errors, dialect, on_bad_lines, delim_whitespace, low_memory, memory_map, float_precision, storage_options, dtype_backend)\u001b[0m\n\u001b[1;32m   1013\u001b[0m kwds_defaults \u001b[38;5;241m=\u001b[39m _refine_defaults_read(\n\u001b[1;32m   1014\u001b[0m     dialect,\n\u001b[1;32m   1015\u001b[0m     delimiter,\n\u001b[0;32m   (...)\u001b[0m\n\u001b[1;32m   1022\u001b[0m     dtype_backend\u001b[38;5;241m=\u001b[39mdtype_backend,\n\u001b[1;32m   1023\u001b[0m )\n\u001b[1;32m   1024\u001b[0m kwds\u001b[38;5;241m.\u001b[39mupdate(kwds_defaults)\n\u001b[0;32m-> 1026\u001b[0m \u001b[38;5;28;01mreturn\u001b[39;00m _read(filepath_or_buffer, kwds)\n",
      "File \u001b[0;32m~/anaconda3/lib/python3.11/site-packages/pandas/io/parsers/readers.py:620\u001b[0m, in \u001b[0;36m_read\u001b[0;34m(filepath_or_buffer, kwds)\u001b[0m\n\u001b[1;32m    617\u001b[0m _validate_names(kwds\u001b[38;5;241m.\u001b[39mget(\u001b[38;5;124m\"\u001b[39m\u001b[38;5;124mnames\u001b[39m\u001b[38;5;124m\"\u001b[39m, \u001b[38;5;28;01mNone\u001b[39;00m))\n\u001b[1;32m    619\u001b[0m \u001b[38;5;66;03m# Create the parser.\u001b[39;00m\n\u001b[0;32m--> 620\u001b[0m parser \u001b[38;5;241m=\u001b[39m TextFileReader(filepath_or_buffer, \u001b[38;5;241m*\u001b[39m\u001b[38;5;241m*\u001b[39mkwds)\n\u001b[1;32m    622\u001b[0m \u001b[38;5;28;01mif\u001b[39;00m chunksize \u001b[38;5;129;01mor\u001b[39;00m iterator:\n\u001b[1;32m    623\u001b[0m     \u001b[38;5;28;01mreturn\u001b[39;00m parser\n",
      "File \u001b[0;32m~/anaconda3/lib/python3.11/site-packages/pandas/io/parsers/readers.py:1620\u001b[0m, in \u001b[0;36mTextFileReader.__init__\u001b[0;34m(self, f, engine, **kwds)\u001b[0m\n\u001b[1;32m   1617\u001b[0m     \u001b[38;5;28mself\u001b[39m\u001b[38;5;241m.\u001b[39moptions[\u001b[38;5;124m\"\u001b[39m\u001b[38;5;124mhas_index_names\u001b[39m\u001b[38;5;124m\"\u001b[39m] \u001b[38;5;241m=\u001b[39m kwds[\u001b[38;5;124m\"\u001b[39m\u001b[38;5;124mhas_index_names\u001b[39m\u001b[38;5;124m\"\u001b[39m]\n\u001b[1;32m   1619\u001b[0m \u001b[38;5;28mself\u001b[39m\u001b[38;5;241m.\u001b[39mhandles: IOHandles \u001b[38;5;241m|\u001b[39m \u001b[38;5;28;01mNone\u001b[39;00m \u001b[38;5;241m=\u001b[39m \u001b[38;5;28;01mNone\u001b[39;00m\n\u001b[0;32m-> 1620\u001b[0m \u001b[38;5;28mself\u001b[39m\u001b[38;5;241m.\u001b[39m_engine \u001b[38;5;241m=\u001b[39m \u001b[38;5;28mself\u001b[39m\u001b[38;5;241m.\u001b[39m_make_engine(f, \u001b[38;5;28mself\u001b[39m\u001b[38;5;241m.\u001b[39mengine)\n",
      "File \u001b[0;32m~/anaconda3/lib/python3.11/site-packages/pandas/io/parsers/readers.py:1880\u001b[0m, in \u001b[0;36mTextFileReader._make_engine\u001b[0;34m(self, f, engine)\u001b[0m\n\u001b[1;32m   1878\u001b[0m     \u001b[38;5;28;01mif\u001b[39;00m \u001b[38;5;124m\"\u001b[39m\u001b[38;5;124mb\u001b[39m\u001b[38;5;124m\"\u001b[39m \u001b[38;5;129;01mnot\u001b[39;00m \u001b[38;5;129;01min\u001b[39;00m mode:\n\u001b[1;32m   1879\u001b[0m         mode \u001b[38;5;241m+\u001b[39m\u001b[38;5;241m=\u001b[39m \u001b[38;5;124m\"\u001b[39m\u001b[38;5;124mb\u001b[39m\u001b[38;5;124m\"\u001b[39m\n\u001b[0;32m-> 1880\u001b[0m \u001b[38;5;28mself\u001b[39m\u001b[38;5;241m.\u001b[39mhandles \u001b[38;5;241m=\u001b[39m get_handle(\n\u001b[1;32m   1881\u001b[0m     f,\n\u001b[1;32m   1882\u001b[0m     mode,\n\u001b[1;32m   1883\u001b[0m     encoding\u001b[38;5;241m=\u001b[39m\u001b[38;5;28mself\u001b[39m\u001b[38;5;241m.\u001b[39moptions\u001b[38;5;241m.\u001b[39mget(\u001b[38;5;124m\"\u001b[39m\u001b[38;5;124mencoding\u001b[39m\u001b[38;5;124m\"\u001b[39m, \u001b[38;5;28;01mNone\u001b[39;00m),\n\u001b[1;32m   1884\u001b[0m     compression\u001b[38;5;241m=\u001b[39m\u001b[38;5;28mself\u001b[39m\u001b[38;5;241m.\u001b[39moptions\u001b[38;5;241m.\u001b[39mget(\u001b[38;5;124m\"\u001b[39m\u001b[38;5;124mcompression\u001b[39m\u001b[38;5;124m\"\u001b[39m, \u001b[38;5;28;01mNone\u001b[39;00m),\n\u001b[1;32m   1885\u001b[0m     memory_map\u001b[38;5;241m=\u001b[39m\u001b[38;5;28mself\u001b[39m\u001b[38;5;241m.\u001b[39moptions\u001b[38;5;241m.\u001b[39mget(\u001b[38;5;124m\"\u001b[39m\u001b[38;5;124mmemory_map\u001b[39m\u001b[38;5;124m\"\u001b[39m, \u001b[38;5;28;01mFalse\u001b[39;00m),\n\u001b[1;32m   1886\u001b[0m     is_text\u001b[38;5;241m=\u001b[39mis_text,\n\u001b[1;32m   1887\u001b[0m     errors\u001b[38;5;241m=\u001b[39m\u001b[38;5;28mself\u001b[39m\u001b[38;5;241m.\u001b[39moptions\u001b[38;5;241m.\u001b[39mget(\u001b[38;5;124m\"\u001b[39m\u001b[38;5;124mencoding_errors\u001b[39m\u001b[38;5;124m\"\u001b[39m, \u001b[38;5;124m\"\u001b[39m\u001b[38;5;124mstrict\u001b[39m\u001b[38;5;124m\"\u001b[39m),\n\u001b[1;32m   1888\u001b[0m     storage_options\u001b[38;5;241m=\u001b[39m\u001b[38;5;28mself\u001b[39m\u001b[38;5;241m.\u001b[39moptions\u001b[38;5;241m.\u001b[39mget(\u001b[38;5;124m\"\u001b[39m\u001b[38;5;124mstorage_options\u001b[39m\u001b[38;5;124m\"\u001b[39m, \u001b[38;5;28;01mNone\u001b[39;00m),\n\u001b[1;32m   1889\u001b[0m )\n\u001b[1;32m   1890\u001b[0m \u001b[38;5;28;01massert\u001b[39;00m \u001b[38;5;28mself\u001b[39m\u001b[38;5;241m.\u001b[39mhandles \u001b[38;5;129;01mis\u001b[39;00m \u001b[38;5;129;01mnot\u001b[39;00m \u001b[38;5;28;01mNone\u001b[39;00m\n\u001b[1;32m   1891\u001b[0m f \u001b[38;5;241m=\u001b[39m \u001b[38;5;28mself\u001b[39m\u001b[38;5;241m.\u001b[39mhandles\u001b[38;5;241m.\u001b[39mhandle\n",
      "File \u001b[0;32m~/anaconda3/lib/python3.11/site-packages/pandas/io/common.py:873\u001b[0m, in \u001b[0;36mget_handle\u001b[0;34m(path_or_buf, mode, encoding, compression, memory_map, is_text, errors, storage_options)\u001b[0m\n\u001b[1;32m    868\u001b[0m \u001b[38;5;28;01melif\u001b[39;00m \u001b[38;5;28misinstance\u001b[39m(handle, \u001b[38;5;28mstr\u001b[39m):\n\u001b[1;32m    869\u001b[0m     \u001b[38;5;66;03m# Check whether the filename is to be opened in binary mode.\u001b[39;00m\n\u001b[1;32m    870\u001b[0m     \u001b[38;5;66;03m# Binary mode does not support 'encoding' and 'newline'.\u001b[39;00m\n\u001b[1;32m    871\u001b[0m     \u001b[38;5;28;01mif\u001b[39;00m ioargs\u001b[38;5;241m.\u001b[39mencoding \u001b[38;5;129;01mand\u001b[39;00m \u001b[38;5;124m\"\u001b[39m\u001b[38;5;124mb\u001b[39m\u001b[38;5;124m\"\u001b[39m \u001b[38;5;129;01mnot\u001b[39;00m \u001b[38;5;129;01min\u001b[39;00m ioargs\u001b[38;5;241m.\u001b[39mmode:\n\u001b[1;32m    872\u001b[0m         \u001b[38;5;66;03m# Encoding\u001b[39;00m\n\u001b[0;32m--> 873\u001b[0m         handle \u001b[38;5;241m=\u001b[39m \u001b[38;5;28mopen\u001b[39m(\n\u001b[1;32m    874\u001b[0m             handle,\n\u001b[1;32m    875\u001b[0m             ioargs\u001b[38;5;241m.\u001b[39mmode,\n\u001b[1;32m    876\u001b[0m             encoding\u001b[38;5;241m=\u001b[39mioargs\u001b[38;5;241m.\u001b[39mencoding,\n\u001b[1;32m    877\u001b[0m             errors\u001b[38;5;241m=\u001b[39merrors,\n\u001b[1;32m    878\u001b[0m             newline\u001b[38;5;241m=\u001b[39m\u001b[38;5;124m\"\u001b[39m\u001b[38;5;124m\"\u001b[39m,\n\u001b[1;32m    879\u001b[0m         )\n\u001b[1;32m    880\u001b[0m     \u001b[38;5;28;01melse\u001b[39;00m:\n\u001b[1;32m    881\u001b[0m         \u001b[38;5;66;03m# Binary mode\u001b[39;00m\n\u001b[1;32m    882\u001b[0m         handle \u001b[38;5;241m=\u001b[39m \u001b[38;5;28mopen\u001b[39m(handle, ioargs\u001b[38;5;241m.\u001b[39mmode)\n",
      "\u001b[0;31mFileNotFoundError\u001b[0m: [Errno 2] No such file or directory: '/content/drive/MyDrive/CS 7641 Machine Learning Group Project/articles_cleaned.csv'"
     ]
    }
   ],
   "source": [
    "articles = pd.read_csv(\"/content/drive/MyDrive/CS 7641 Machine Learning Group Project/articles_cleaned.csv\")\n",
    "customers = pd.read_csv('/content/drive/MyDrive/CS 7641 Machine Learning Group Project/customers_cleaned.csv')\n",
    "transactions = pd.read_csv('/content/drive/MyDrive/CS 7641 Machine Learning Group Project/transactions_cleaned.csv')"
   ]
  },
  {
   "cell_type": "code",
   "execution_count": 44,
   "id": "1e62c838-a360-4841-93e6-3f3b515d1468",
   "metadata": {
    "collapsed": false,
    "id": "veo_lGhb9Ceh"
   },
   "outputs": [],
   "source": [
    "# result = transactions.merge(articles, on='article_id', how='inner')"
   ]
  },
  {
   "cell_type": "code",
   "execution_count": 45,
   "id": "f0051a2e-2487-4668-957e-777bbe731594",
   "metadata": {
    "collapsed": false,
    "id": "ooZlLhUrBsH9"
   },
   "outputs": [],
   "source": [
    "# result = result.merge(customers, on='customer_id', how='inner')"
   ]
  },
  {
   "cell_type": "code",
   "execution_count": 46,
   "id": "13d64d24-3a96-48fc-8b45-4bf6c93bdf4f",
   "metadata": {
    "collapsed": false,
    "id": "MWD3RUiiBtVg"
   },
   "outputs": [],
   "source": [
    "# result.head()"
   ]
  },
  {
   "cell_type": "markdown",
   "id": "43032125-7163-4866-ab8b-7b2c35779618",
   "metadata": {
    "collapsed": false,
    "id": "VBE0DbXvvfJZ"
   },
   "source": [
    "# Dimensionality Reduction with PCA on Articles Dataset\n",
    "In this section, we will apply PCA to the articles data. We want to reduce the dimensionality of the dataset, retaining only features that explain the majority of the variance.\n",
    "\n",
    "## Standardization\n",
    "For PCA to work, we need data that is numerical and standardized with the mean as 0. We did one-hot encoding above to ensure we have numerical data. Now, it's necessary to standardize. We want to scale all numerical features to have a mean of 0 and a standard deviation of 1."
   ]
  },
  {
   "cell_type": "code",
   "execution_count": 47,
   "id": "a55b0f37-d83e-4f31-a2e4-d5b77882d618",
   "metadata": {
    "collapsed": false,
    "id": "ZkGauT4eJBA0"
   },
   "outputs": [
    {
     "ename": "NameError",
     "evalue": "name 'articles' is not defined",
     "output_type": "error",
     "traceback": [
      "\u001b[0;31m---------------------------------------------------------------------------\u001b[0m",
      "\u001b[0;31mNameError\u001b[0m                                 Traceback (most recent call last)",
      "Cell \u001b[0;32mIn[47], line 4\u001b[0m\n\u001b[1;32m      1\u001b[0m \u001b[38;5;28;01mfrom\u001b[39;00m \u001b[38;5;21;01msklearn\u001b[39;00m\u001b[38;5;21;01m.\u001b[39;00m\u001b[38;5;21;01mpreprocessing\u001b[39;00m \u001b[38;5;28;01mimport\u001b[39;00m StandardScaler\n\u001b[1;32m      2\u001b[0m \u001b[38;5;28;01mfrom\u001b[39;00m \u001b[38;5;21;01msklearn\u001b[39;00m\u001b[38;5;21;01m.\u001b[39;00m\u001b[38;5;21;01mdecomposition\u001b[39;00m \u001b[38;5;28;01mimport\u001b[39;00m PCA\n\u001b[0;32m----> 4\u001b[0m articles_for_pca \u001b[38;5;241m=\u001b[39m articles\u001b[38;5;241m.\u001b[39mdrop(columns\u001b[38;5;241m=\u001b[39m[\u001b[38;5;124m'\u001b[39m\u001b[38;5;124marticle_id\u001b[39m\u001b[38;5;124m'\u001b[39m])\n\u001b[1;32m      5\u001b[0m scaler \u001b[38;5;241m=\u001b[39m StandardScaler()\n\u001b[1;32m      6\u001b[0m articles_scaled \u001b[38;5;241m=\u001b[39m scaler\u001b[38;5;241m.\u001b[39mfit_transform(articles_for_pca)\n",
      "\u001b[0;31mNameError\u001b[0m: name 'articles' is not defined"
     ]
    }
   ],
   "source": [
    "from sklearn.preprocessing import StandardScaler\n",
    "from sklearn.decomposition import PCA\n",
    "\n",
    "articles_for_pca = articles.drop(columns=['article_id'])\n",
    "scaler = StandardScaler()\n",
    "articles_scaled = scaler.fit_transform(articles_for_pca)\n"
   ]
  },
  {
   "cell_type": "markdown",
   "id": "4154426f-a442-4b8d-bfe6-d93734d9a12f",
   "metadata": {
    "collapsed": false,
    "id": "zERNhiksYxQ0"
   },
   "source": [
    "## Apply PCA\n",
    "Now, run PCA to reduce the dimensionality. Here, we can specify n_components=0.95 to retain 95% of the variance, or choose a specific number of components."
   ]
  },
  {
   "cell_type": "code",
   "execution_count": 48,
   "id": "981a51eb-aceb-48fa-8e03-c43ee948817e",
   "metadata": {
    "colab": {
     "base_uri": "https://localhost:8080/",
     "height": 725
    },
    "collapsed": false,
    "id": "mc8dVrFWZSTC",
    "outputId": "cc3d79b1-dbb2-4ba5-87d6-f9dffbec4c28"
   },
   "outputs": [
    {
     "ename": "NameError",
     "evalue": "name 'articles_scaled' is not defined",
     "output_type": "error",
     "traceback": [
      "\u001b[0;31m---------------------------------------------------------------------------\u001b[0m",
      "\u001b[0;31mNameError\u001b[0m                                 Traceback (most recent call last)",
      "Cell \u001b[0;32mIn[48], line 3\u001b[0m\n\u001b[1;32m      1\u001b[0m \u001b[38;5;66;03m# Apply PCA to capture 95% of the variance\u001b[39;00m\n\u001b[1;32m      2\u001b[0m pca \u001b[38;5;241m=\u001b[39m PCA(n_components\u001b[38;5;241m=\u001b[39m\u001b[38;5;241m0.95\u001b[39m)\n\u001b[0;32m----> 3\u001b[0m articles_pca \u001b[38;5;241m=\u001b[39m pca\u001b[38;5;241m.\u001b[39mfit_transform(articles_scaled)\n\u001b[1;32m      5\u001b[0m \u001b[38;5;66;03m# Convert the result back to a DataFrame for easy interpretation\u001b[39;00m\n\u001b[1;32m      6\u001b[0m articles_pca_df \u001b[38;5;241m=\u001b[39m pd\u001b[38;5;241m.\u001b[39mDataFrame(articles_pca, columns\u001b[38;5;241m=\u001b[39m[\u001b[38;5;124mf\u001b[39m\u001b[38;5;124m'\u001b[39m\u001b[38;5;124mPC\u001b[39m\u001b[38;5;132;01m{\u001b[39;00mi\u001b[38;5;241m+\u001b[39m\u001b[38;5;241m1\u001b[39m\u001b[38;5;132;01m}\u001b[39;00m\u001b[38;5;124m'\u001b[39m \u001b[38;5;28;01mfor\u001b[39;00m i \u001b[38;5;129;01min\u001b[39;00m \u001b[38;5;28mrange\u001b[39m(articles_pca\u001b[38;5;241m.\u001b[39mshape[\u001b[38;5;241m1\u001b[39m])])\n",
      "\u001b[0;31mNameError\u001b[0m: name 'articles_scaled' is not defined"
     ]
    }
   ],
   "source": [
    "# Apply PCA to capture 95% of the variance\n",
    "pca = PCA(n_components=0.95)\n",
    "articles_pca = pca.fit_transform(articles_scaled)\n",
    "\n",
    "# Convert the result back to a DataFrame for easy interpretation\n",
    "articles_pca_df = pd.DataFrame(articles_pca, columns=[f'PC{i+1}' for i in range(articles_pca.shape[1])])\n",
    "\n",
    "# Print explained variance ratio for each principal component\n",
    "print(\"Explained variance ratio by principal components:\", pca.explained_variance_ratio_)\n",
    "\n",
    "# Plot the explained variance\n",
    "import matplotlib.pyplot as plt\n",
    "plt.figure(figsize=(10, 6))\n",
    "plt.plot(range(1, len(pca.explained_variance_ratio_) + 1), pca.explained_variance_ratio_, marker='o')\n",
    "plt.xlabel(\"Principal Component\")\n",
    "plt.ylabel(\"Explained Variance Ratio\")\n",
    "plt.title(\"Explained Variance Ratio by Principal Component for Articles\")\n",
    "plt.show()"
   ]
  },
  {
   "cell_type": "markdown",
   "id": "1acf2bd1-1053-4363-82f1-e9fa13b617a2",
   "metadata": {
    "collapsed": false,
    "id": "K0qWzY4hZ5vw"
   },
   "source": [
    "## PCA for Customers"
   ]
  },
  {
   "cell_type": "code",
   "execution_count": 49,
   "id": "3c12a14d-3797-45aa-b0b0-89d8785879f8",
   "metadata": {
    "colab": {
     "base_uri": "https://localhost:8080/",
     "height": 582
    },
    "collapsed": false,
    "id": "IOx01N1ybbGK",
    "outputId": "973543d5-ccb8-4b01-f4fb-81299bb0d34d"
   },
   "outputs": [
    {
     "ename": "NameError",
     "evalue": "name 'customers' is not defined",
     "output_type": "error",
     "traceback": [
      "\u001b[0;31m---------------------------------------------------------------------------\u001b[0m",
      "\u001b[0;31mNameError\u001b[0m                                 Traceback (most recent call last)",
      "Cell \u001b[0;32mIn[49], line 1\u001b[0m\n\u001b[0;32m----> 1\u001b[0m customers_for_pca \u001b[38;5;241m=\u001b[39m customers\u001b[38;5;241m.\u001b[39mdrop(columns\u001b[38;5;241m=\u001b[39m[\u001b[38;5;124m'\u001b[39m\u001b[38;5;124mcustomer_id\u001b[39m\u001b[38;5;124m'\u001b[39m])\n\u001b[1;32m      2\u001b[0m scaler \u001b[38;5;241m=\u001b[39m StandardScaler()\n\u001b[1;32m      3\u001b[0m customers_scaled \u001b[38;5;241m=\u001b[39m scaler\u001b[38;5;241m.\u001b[39mfit_transform(customers_for_pca)\n",
      "\u001b[0;31mNameError\u001b[0m: name 'customers' is not defined"
     ]
    }
   ],
   "source": [
    "customers_for_pca = customers.drop(columns=['customer_id'])\n",
    "scaler = StandardScaler()\n",
    "customers_scaled = scaler.fit_transform(customers_for_pca)\n",
    "\n",
    "# Apply PCA to capture 95% of the variance\n",
    "pca = PCA(n_components=0.95)\n",
    "customers_pca = pca.fit_transform(customers_scaled)\n",
    "\n",
    "# Convert the result back to a DataFrame for easy interpretation\n",
    "customers_pca_df = pd.DataFrame(customers_pca, columns=[f'PC{i+1}' for i in range(customers_pca.shape[1])])\n",
    "\n",
    "# Print explained variance ratio for each principal component\n",
    "print(\"Explained variance ratio by principal components:\", pca.explained_variance_ratio_)\n",
    "\n",
    "# Plot the explained variance\n",
    "import matplotlib.pyplot as plt\n",
    "plt.figure(figsize=(10, 6))\n",
    "plt.plot(range(1, len(pca.explained_variance_ratio_) + 1), pca.explained_variance_ratio_, marker='o')\n",
    "plt.xlabel(\"Principal Component\")\n",
    "plt.ylabel(\"Explained Variance Ratio\")\n",
    "plt.title(\"Explained Variance Ratio by Principal Component for Customers\")\n",
    "plt.show()\n"
   ]
  },
  {
   "cell_type": "markdown",
   "id": "f37e5b50-f6c9-47ef-91a2-782d3ea1cd06",
   "metadata": {
    "collapsed": false,
    "id": "zXpUl5qCetBp"
   },
   "source": [
    "## PCA for Transactions"
   ]
  },
  {
   "cell_type": "code",
   "execution_count": 50,
   "id": "b6f5a026-5548-4ec4-a909-e177e911dce7",
   "metadata": {
    "colab": {
     "base_uri": "https://localhost:8080/",
     "height": 216
    },
    "collapsed": false,
    "id": "wipZGByHe_UK",
    "outputId": "87d9caa5-e3b6-40eb-c91f-dfa60770ad27"
   },
   "outputs": [
    {
     "ename": "NameError",
     "evalue": "name 'transactions' is not defined",
     "output_type": "error",
     "traceback": [
      "\u001b[0;31m---------------------------------------------------------------------------\u001b[0m",
      "\u001b[0;31mNameError\u001b[0m                                 Traceback (most recent call last)",
      "Cell \u001b[0;32mIn[50], line 1\u001b[0m\n\u001b[0;32m----> 1\u001b[0m transactions\u001b[38;5;241m.\u001b[39mhead()\n",
      "\u001b[0;31mNameError\u001b[0m: name 'transactions' is not defined"
     ]
    }
   ],
   "source": [
    "transactions.head()\n",
    "# transactions_for_pca = transactions.drop(columns=['customer_id', 'article_id'])\n",
    "# scaler = StandardScaler()\n",
    "# transactions_scaled = scaler.fit_transform(transactions_for_pca)\n",
    "\n",
    "# # Apply PCA to capture 95% of the variance\n",
    "# pca = PCA(n_components=0.95)\n",
    "# transactions_pca = pca.fit_transform(transactions_scaled)\n",
    "\n",
    "# # Convert the result back to a DataFrame for easy interpretation\n",
    "# transactions_pca_df = pd.DataFrame(transactions_pca, columns=[f'PC{i+1}' for i in range(transactions_pca.shape[1])])\n",
    "\n",
    "# # Print explained variance ratio for each principal component\n",
    "# print(\"Explained variance ratio by principal components:\", pca.explained_variance_ratio_)\n",
    "\n",
    "# # Plot the explained variance\n",
    "# import matplotlib.pyplot as plt\n",
    "# plt.figure(figsize=(10, 6))\n",
    "# plt.plot(range(1, len(pca.explained_variance_ratio_) + 1), pca.explained_variance_ratio_, marker='o')\n",
    "# plt.xlabel(\"Principal Component\")\n",
    "# plt.ylabel(\"Explained Variance Ratio\")\n",
    "# plt.title(\"Explained Variance Ratio by Principal Component for Transactions\")\n",
    "# plt.show()"
   ]
  }
 ],
 "metadata": {
  "colab": {
   "provenance": []
  },
  "kernelspec": {
   "argv": [
    "/Users/kabirkang/anaconda3/bin/python",
    "-Xfrozen_modules=off",
    "-m",
    "ipykernel_launcher",
    "-f",
    "{connection_file}"
   ],
   "display_name": "Python 3 (ipykernel)",
   "env": null,
   "interrupt_mode": "signal",
   "language": "python",
   "metadata": {
    "debugger": true
   },
   "name": "python3"
  },
  "language_info": {
   "name": "python"
  },
  "name": "Data_Cleaning.ipynb"
 },
 "nbformat": 4,
 "nbformat_minor": 0
}
